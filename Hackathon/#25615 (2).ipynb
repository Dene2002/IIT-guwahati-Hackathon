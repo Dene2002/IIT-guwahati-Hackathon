{
 "cells": [
  {
   "cell_type": "code",
   "execution_count": 66,
   "metadata": {},
   "outputs": [],
   "source": [
    "import numpy as np\n",
    "import pandas as pd\n",
    "import matplotlib.pyplot as plt\n",
    "import seaborn as sns\n",
    "import warnings   # remove all warnings from the output\n",
    "warnings.filterwarnings(\"ignore\")\n",
    "pd.set_option(\"display.max_columns\", 500)  ## this will display all the columns in the output of .csv file\n",
    "pd.set_option(\"display.max_rows\", 500)"
   ]
  },
  {
   "cell_type": "code",
   "execution_count": 67,
   "metadata": {},
   "outputs": [],
   "source": [
    "def null(df, feature, plot=False):\n",
    "    t = df[feature].isna().mean() * 100\n",
    "    print(f'% of null --> {t}')\n",
    "    if plot:\n",
    "        sns.countplot(dataset[feature], palette='cool')"
   ]
  },
  {
   "cell_type": "code",
   "execution_count": 68,
   "metadata": {},
   "outputs": [
    {
     "data": {
      "text/html": [
       "<div>\n",
       "<style scoped>\n",
       "    .dataframe tbody tr th:only-of-type {\n",
       "        vertical-align: middle;\n",
       "    }\n",
       "\n",
       "    .dataframe tbody tr th {\n",
       "        vertical-align: top;\n",
       "    }\n",
       "\n",
       "    .dataframe thead th {\n",
       "        text-align: right;\n",
       "    }\n",
       "</style>\n",
       "<table border=\"1\" class=\"dataframe\">\n",
       "  <thead>\n",
       "    <tr style=\"text-align: right;\">\n",
       "      <th></th>\n",
       "      <th>date</th>\n",
       "      <th>campaign</th>\n",
       "      <th>adgroup</th>\n",
       "      <th>ad</th>\n",
       "      <th>impressions</th>\n",
       "      <th>clicks</th>\n",
       "      <th>cost</th>\n",
       "      <th>conversions</th>\n",
       "      <th>revenue</th>\n",
       "    </tr>\n",
       "  </thead>\n",
       "  <tbody>\n",
       "    <tr>\n",
       "      <th>0</th>\n",
       "      <td>01-08-2020</td>\n",
       "      <td>campaign 1</td>\n",
       "      <td>adgroup 1</td>\n",
       "      <td>ad 1</td>\n",
       "      <td>24</td>\n",
       "      <td>6</td>\n",
       "      <td>0.08</td>\n",
       "      <td>0</td>\n",
       "      <td>0.00</td>\n",
       "    </tr>\n",
       "    <tr>\n",
       "      <th>1</th>\n",
       "      <td>01-08-2020</td>\n",
       "      <td>campaign 1</td>\n",
       "      <td>adgroup 2</td>\n",
       "      <td>ad 1</td>\n",
       "      <td>1</td>\n",
       "      <td>0</td>\n",
       "      <td>0.00</td>\n",
       "      <td>0</td>\n",
       "      <td>0.00</td>\n",
       "    </tr>\n",
       "    <tr>\n",
       "      <th>2</th>\n",
       "      <td>01-08-2020</td>\n",
       "      <td>campaign 1</td>\n",
       "      <td>adgroup 3</td>\n",
       "      <td>ad 1</td>\n",
       "      <td>13</td>\n",
       "      <td>4</td>\n",
       "      <td>0.04</td>\n",
       "      <td>0</td>\n",
       "      <td>0.00</td>\n",
       "    </tr>\n",
       "    <tr>\n",
       "      <th>3</th>\n",
       "      <td>01-08-2020</td>\n",
       "      <td>campaign 1</td>\n",
       "      <td>adgroup 4</td>\n",
       "      <td>ad 1</td>\n",
       "      <td>5</td>\n",
       "      <td>4</td>\n",
       "      <td>0.08</td>\n",
       "      <td>0</td>\n",
       "      <td>0.00</td>\n",
       "    </tr>\n",
       "    <tr>\n",
       "      <th>4</th>\n",
       "      <td>01-08-2020</td>\n",
       "      <td>campaign 1</td>\n",
       "      <td>adgroup 1</td>\n",
       "      <td>ad 2</td>\n",
       "      <td>247</td>\n",
       "      <td>126</td>\n",
       "      <td>1.29</td>\n",
       "      <td>4</td>\n",
       "      <td>925.71</td>\n",
       "    </tr>\n",
       "  </tbody>\n",
       "</table>\n",
       "</div>"
      ],
      "text/plain": [
       "         date    campaign    adgroup    ad  impressions  clicks  cost  \\\n",
       "0  01-08-2020  campaign 1  adgroup 1  ad 1           24       6  0.08   \n",
       "1  01-08-2020  campaign 1  adgroup 2  ad 1            1       0  0.00   \n",
       "2  01-08-2020  campaign 1  adgroup 3  ad 1           13       4  0.04   \n",
       "3  01-08-2020  campaign 1  adgroup 4  ad 1            5       4  0.08   \n",
       "4  01-08-2020  campaign 1  adgroup 1  ad 2          247     126  1.29   \n",
       "\n",
       "   conversions  revenue  \n",
       "0            0     0.00  \n",
       "1            0     0.00  \n",
       "2            0     0.00  \n",
       "3            0     0.00  \n",
       "4            4   925.71  "
      ]
     },
     "execution_count": 68,
     "metadata": {},
     "output_type": "execute_result"
    }
   ],
   "source": [
    "train_data = pd.read_csv('Train_Data.csv')\n",
    "train_data.head()"
   ]
  },
  {
   "cell_type": "code",
   "execution_count": 69,
   "metadata": {},
   "outputs": [
    {
     "data": {
      "text/html": [
       "<div>\n",
       "<style scoped>\n",
       "    .dataframe tbody tr th:only-of-type {\n",
       "        vertical-align: middle;\n",
       "    }\n",
       "\n",
       "    .dataframe tbody tr th {\n",
       "        vertical-align: top;\n",
       "    }\n",
       "\n",
       "    .dataframe thead th {\n",
       "        text-align: right;\n",
       "    }\n",
       "</style>\n",
       "<table border=\"1\" class=\"dataframe\">\n",
       "  <thead>\n",
       "    <tr style=\"text-align: right;\">\n",
       "      <th></th>\n",
       "      <th>impressions</th>\n",
       "      <th>clicks</th>\n",
       "      <th>cost</th>\n",
       "      <th>conversions</th>\n",
       "      <th>revenue</th>\n",
       "    </tr>\n",
       "  </thead>\n",
       "  <tbody>\n",
       "    <tr>\n",
       "      <th>count</th>\n",
       "      <td>4571.000000</td>\n",
       "      <td>4571.000000</td>\n",
       "      <td>4571.000000</td>\n",
       "      <td>4571.000000</td>\n",
       "      <td>4571.000000</td>\n",
       "    </tr>\n",
       "    <tr>\n",
       "      <th>mean</th>\n",
       "      <td>92.635747</td>\n",
       "      <td>43.340844</td>\n",
       "      <td>2.800834</td>\n",
       "      <td>1.339094</td>\n",
       "      <td>231.865340</td>\n",
       "    </tr>\n",
       "    <tr>\n",
       "      <th>std</th>\n",
       "      <td>198.349737</td>\n",
       "      <td>100.164913</td>\n",
       "      <td>14.361618</td>\n",
       "      <td>5.223922</td>\n",
       "      <td>1091.742763</td>\n",
       "    </tr>\n",
       "    <tr>\n",
       "      <th>min</th>\n",
       "      <td>1.000000</td>\n",
       "      <td>0.000000</td>\n",
       "      <td>0.000000</td>\n",
       "      <td>0.000000</td>\n",
       "      <td>0.000000</td>\n",
       "    </tr>\n",
       "    <tr>\n",
       "      <th>25%</th>\n",
       "      <td>6.000000</td>\n",
       "      <td>2.000000</td>\n",
       "      <td>0.040000</td>\n",
       "      <td>0.000000</td>\n",
       "      <td>0.000000</td>\n",
       "    </tr>\n",
       "    <tr>\n",
       "      <th>50%</th>\n",
       "      <td>16.000000</td>\n",
       "      <td>7.000000</td>\n",
       "      <td>0.210000</td>\n",
       "      <td>0.000000</td>\n",
       "      <td>0.000000</td>\n",
       "    </tr>\n",
       "    <tr>\n",
       "      <th>75%</th>\n",
       "      <td>84.000000</td>\n",
       "      <td>38.000000</td>\n",
       "      <td>1.350000</td>\n",
       "      <td>1.000000</td>\n",
       "      <td>92.600000</td>\n",
       "    </tr>\n",
       "    <tr>\n",
       "      <th>max</th>\n",
       "      <td>3239.000000</td>\n",
       "      <td>1771.000000</td>\n",
       "      <td>531.250000</td>\n",
       "      <td>94.000000</td>\n",
       "      <td>20515.410000</td>\n",
       "    </tr>\n",
       "  </tbody>\n",
       "</table>\n",
       "</div>"
      ],
      "text/plain": [
       "       impressions       clicks         cost  conversions       revenue\n",
       "count  4571.000000  4571.000000  4571.000000  4571.000000   4571.000000\n",
       "mean     92.635747    43.340844     2.800834     1.339094    231.865340\n",
       "std     198.349737   100.164913    14.361618     5.223922   1091.742763\n",
       "min       1.000000     0.000000     0.000000     0.000000      0.000000\n",
       "25%       6.000000     2.000000     0.040000     0.000000      0.000000\n",
       "50%      16.000000     7.000000     0.210000     0.000000      0.000000\n",
       "75%      84.000000    38.000000     1.350000     1.000000     92.600000\n",
       "max    3239.000000  1771.000000   531.250000    94.000000  20515.410000"
      ]
     },
     "execution_count": 69,
     "metadata": {},
     "output_type": "execute_result"
    }
   ],
   "source": [
    "train_data.describe()"
   ]
  },
  {
   "cell_type": "code",
   "execution_count": 70,
   "metadata": {},
   "outputs": [
    {
     "name": "stdout",
     "output_type": "stream",
     "text": [
      "<class 'pandas.core.frame.DataFrame'>\n",
      "RangeIndex: 4571 entries, 0 to 4570\n",
      "Data columns (total 9 columns):\n",
      " #   Column       Non-Null Count  Dtype  \n",
      "---  ------       --------------  -----  \n",
      " 0   date         4571 non-null   object \n",
      " 1   campaign     4571 non-null   object \n",
      " 2   adgroup      4571 non-null   object \n",
      " 3   ad           4571 non-null   object \n",
      " 4   impressions  4571 non-null   int64  \n",
      " 5   clicks       4571 non-null   int64  \n",
      " 6   cost         4571 non-null   float64\n",
      " 7   conversions  4571 non-null   int64  \n",
      " 8   revenue      4571 non-null   float64\n",
      "dtypes: float64(2), int64(3), object(4)\n",
      "memory usage: 321.5+ KB\n"
     ]
    }
   ],
   "source": [
    "train_data.info()"
   ]
  },
  {
   "cell_type": "code",
   "execution_count": 71,
   "metadata": {},
   "outputs": [
    {
     "data": {
      "text/html": [
       "<div>\n",
       "<style scoped>\n",
       "    .dataframe tbody tr th:only-of-type {\n",
       "        vertical-align: middle;\n",
       "    }\n",
       "\n",
       "    .dataframe tbody tr th {\n",
       "        vertical-align: top;\n",
       "    }\n",
       "\n",
       "    .dataframe thead th {\n",
       "        text-align: right;\n",
       "    }\n",
       "</style>\n",
       "<table border=\"1\" class=\"dataframe\">\n",
       "  <thead>\n",
       "    <tr style=\"text-align: right;\">\n",
       "      <th></th>\n",
       "      <th>date</th>\n",
       "      <th>campaign</th>\n",
       "      <th>adgroup</th>\n",
       "      <th>ad</th>\n",
       "      <th>impressions</th>\n",
       "      <th>clicks</th>\n",
       "      <th>cost</th>\n",
       "      <th>conversions</th>\n",
       "      <th>revenue</th>\n",
       "    </tr>\n",
       "  </thead>\n",
       "  <tbody>\n",
       "    <tr>\n",
       "      <th>4566</th>\n",
       "      <td>28-02-2021</td>\n",
       "      <td>campaign 1</td>\n",
       "      <td>adgroup 3</td>\n",
       "      <td>ad 55</td>\n",
       "      <td>19</td>\n",
       "      <td>6</td>\n",
       "      <td>0.07</td>\n",
       "      <td>0</td>\n",
       "      <td>0.0</td>\n",
       "    </tr>\n",
       "    <tr>\n",
       "      <th>4567</th>\n",
       "      <td>28-02-2021</td>\n",
       "      <td>campaign 1</td>\n",
       "      <td>adgroup 4</td>\n",
       "      <td>ad 55</td>\n",
       "      <td>1</td>\n",
       "      <td>0</td>\n",
       "      <td>0.00</td>\n",
       "      <td>0</td>\n",
       "      <td>0.0</td>\n",
       "    </tr>\n",
       "    <tr>\n",
       "      <th>4568</th>\n",
       "      <td>28-02-2021</td>\n",
       "      <td>campaign 1</td>\n",
       "      <td>adgroup 3</td>\n",
       "      <td>ad 56</td>\n",
       "      <td>16</td>\n",
       "      <td>8</td>\n",
       "      <td>0.12</td>\n",
       "      <td>1</td>\n",
       "      <td>93.2</td>\n",
       "    </tr>\n",
       "    <tr>\n",
       "      <th>4569</th>\n",
       "      <td>28-02-2021</td>\n",
       "      <td>campaign 1</td>\n",
       "      <td>adgroup 1</td>\n",
       "      <td>ad 56</td>\n",
       "      <td>37</td>\n",
       "      <td>13</td>\n",
       "      <td>0.23</td>\n",
       "      <td>0</td>\n",
       "      <td>0.0</td>\n",
       "    </tr>\n",
       "    <tr>\n",
       "      <th>4570</th>\n",
       "      <td>28-02-2021</td>\n",
       "      <td>campaign 1</td>\n",
       "      <td>adgroup 1</td>\n",
       "      <td>ad 55</td>\n",
       "      <td>19</td>\n",
       "      <td>10</td>\n",
       "      <td>0.14</td>\n",
       "      <td>0</td>\n",
       "      <td>0.0</td>\n",
       "    </tr>\n",
       "  </tbody>\n",
       "</table>\n",
       "</div>"
      ],
      "text/plain": [
       "            date    campaign    adgroup     ad  impressions  clicks  cost  \\\n",
       "4566  28-02-2021  campaign 1  adgroup 3  ad 55           19       6  0.07   \n",
       "4567  28-02-2021  campaign 1  adgroup 4  ad 55            1       0  0.00   \n",
       "4568  28-02-2021  campaign 1  adgroup 3  ad 56           16       8  0.12   \n",
       "4569  28-02-2021  campaign 1  adgroup 1  ad 56           37      13  0.23   \n",
       "4570  28-02-2021  campaign 1  adgroup 1  ad 55           19      10  0.14   \n",
       "\n",
       "      conversions  revenue  \n",
       "4566            0      0.0  \n",
       "4567            0      0.0  \n",
       "4568            1     93.2  \n",
       "4569            0      0.0  \n",
       "4570            0      0.0  "
      ]
     },
     "execution_count": 71,
     "metadata": {},
     "output_type": "execute_result"
    }
   ],
   "source": [
    "dataset = train_data.copy()  # copying the data, so that if bymistakely we did something wrong which cannot be revert,\n",
    "                             # then we can simply run this cell and we get back our origional data.\n",
    "dataset.tail()"
   ]
  },
  {
   "cell_type": "code",
   "execution_count": 72,
   "metadata": {},
   "outputs": [
    {
     "data": {
      "text/plain": [
       "date           0\n",
       "campaign       0\n",
       "adgroup        0\n",
       "ad             0\n",
       "impressions    0\n",
       "clicks         0\n",
       "cost           0\n",
       "conversions    0\n",
       "revenue        0\n",
       "dtype: int64"
      ]
     },
     "execution_count": 72,
     "metadata": {},
     "output_type": "execute_result"
    }
   ],
   "source": [
    "dataset.isnull().sum()"
   ]
  },
  {
   "cell_type": "code",
   "execution_count": 73,
   "metadata": {},
   "outputs": [
    {
     "data": {
      "text/plain": [
       "[]"
      ]
     },
     "execution_count": 73,
     "metadata": {},
     "output_type": "execute_result"
    }
   ],
   "source": [
    "null_feat = [i for i in dataset.columns if dataset[i].isnull().sum() != 0]\n",
    "null_feat"
   ]
  },
  {
   "cell_type": "code",
   "execution_count": 74,
   "metadata": {},
   "outputs": [],
   "source": [
    "dropped_col=null_feat\n",
    "for i in null_feat:\n",
    "    print(f\"{i} --> {dataset[i].unique()}\")"
   ]
  },
  {
   "cell_type": "code",
   "execution_count": 75,
   "metadata": {},
   "outputs": [
    {
     "data": {
      "text/plain": [
       "5"
      ]
     },
     "execution_count": 75,
     "metadata": {},
     "output_type": "execute_result"
    }
   ],
   "source": [
    "num_feat = [i for i in dataset.columns if dataset[i].dtypes != 'O']\n",
    "len(num_feat)"
   ]
  },
  {
   "cell_type": "code",
   "execution_count": 76,
   "metadata": {},
   "outputs": [
    {
     "data": {
      "text/html": [
       "<div>\n",
       "<style scoped>\n",
       "    .dataframe tbody tr th:only-of-type {\n",
       "        vertical-align: middle;\n",
       "    }\n",
       "\n",
       "    .dataframe tbody tr th {\n",
       "        vertical-align: top;\n",
       "    }\n",
       "\n",
       "    .dataframe thead th {\n",
       "        text-align: right;\n",
       "    }\n",
       "</style>\n",
       "<table border=\"1\" class=\"dataframe\">\n",
       "  <thead>\n",
       "    <tr style=\"text-align: right;\">\n",
       "      <th></th>\n",
       "      <th>ad</th>\n",
       "      <th>campaign</th>\n",
       "      <th>date</th>\n",
       "      <th>adgroup</th>\n",
       "    </tr>\n",
       "  </thead>\n",
       "  <tbody>\n",
       "    <tr>\n",
       "      <th>0</th>\n",
       "      <td>ad 1</td>\n",
       "      <td>campaign 1</td>\n",
       "      <td>01-08-2020</td>\n",
       "      <td>adgroup 1</td>\n",
       "    </tr>\n",
       "    <tr>\n",
       "      <th>1</th>\n",
       "      <td>ad 1</td>\n",
       "      <td>campaign 1</td>\n",
       "      <td>01-08-2020</td>\n",
       "      <td>adgroup 2</td>\n",
       "    </tr>\n",
       "  </tbody>\n",
       "</table>\n",
       "</div>"
      ],
      "text/plain": [
       "     ad    campaign        date    adgroup\n",
       "0  ad 1  campaign 1  01-08-2020  adgroup 1\n",
       "1  ad 1  campaign 1  01-08-2020  adgroup 2"
      ]
     },
     "execution_count": 76,
     "metadata": {},
     "output_type": "execute_result"
    }
   ],
   "source": [
    "dataset[set(dataset.columns) - set(num_feat)].head(2)"
   ]
  },
  {
   "cell_type": "code",
   "execution_count": 77,
   "metadata": {},
   "outputs": [
    {
     "data": {
      "text/plain": [
       "ad          object\n",
       "campaign    object\n",
       "date        object\n",
       "adgroup     object\n",
       "dtype: object"
      ]
     },
     "execution_count": 77,
     "metadata": {},
     "output_type": "execute_result"
    }
   ],
   "source": [
    "dataset[set(dataset.columns) - set(num_feat)].dtypes"
   ]
  },
  {
   "cell_type": "code",
   "execution_count": 78,
   "metadata": {},
   "outputs": [],
   "source": [
    "cat_feat = dataset[set(dataset.columns) - set(num_feat)]"
   ]
  },
  {
   "cell_type": "code",
   "execution_count": 79,
   "metadata": {},
   "outputs": [
    {
     "data": {
      "text/html": [
       "<div>\n",
       "<style scoped>\n",
       "    .dataframe tbody tr th:only-of-type {\n",
       "        vertical-align: middle;\n",
       "    }\n",
       "\n",
       "    .dataframe tbody tr th {\n",
       "        vertical-align: top;\n",
       "    }\n",
       "\n",
       "    .dataframe thead th {\n",
       "        text-align: right;\n",
       "    }\n",
       "</style>\n",
       "<table border=\"1\" class=\"dataframe\">\n",
       "  <thead>\n",
       "    <tr style=\"text-align: right;\">\n",
       "      <th></th>\n",
       "      <th>impressions</th>\n",
       "      <th>clicks</th>\n",
       "      <th>cost</th>\n",
       "      <th>conversions</th>\n",
       "      <th>revenue</th>\n",
       "    </tr>\n",
       "  </thead>\n",
       "  <tbody>\n",
       "    <tr>\n",
       "      <th>0</th>\n",
       "      <td>24</td>\n",
       "      <td>6</td>\n",
       "      <td>0.08</td>\n",
       "      <td>0</td>\n",
       "      <td>0.0</td>\n",
       "    </tr>\n",
       "    <tr>\n",
       "      <th>1</th>\n",
       "      <td>1</td>\n",
       "      <td>0</td>\n",
       "      <td>0.00</td>\n",
       "      <td>0</td>\n",
       "      <td>0.0</td>\n",
       "    </tr>\n",
       "  </tbody>\n",
       "</table>\n",
       "</div>"
      ],
      "text/plain": [
       "   impressions  clicks  cost  conversions  revenue\n",
       "0           24       6  0.08            0      0.0\n",
       "1            1       0  0.00            0      0.0"
      ]
     },
     "execution_count": 79,
     "metadata": {},
     "output_type": "execute_result"
    }
   ],
   "source": [
    "dataset[num_feat].head(2)"
   ]
  },
  {
   "cell_type": "code",
   "execution_count": 80,
   "metadata": {},
   "outputs": [
    {
     "data": {
      "text/plain": [
       "['cost', 'revenue']"
      ]
     },
     "execution_count": 80,
     "metadata": {},
     "output_type": "execute_result"
    }
   ],
   "source": [
    "float_feat = [i for i in num_feat if dataset[i].dtypes == 'float']\n",
    "float_feat"
   ]
  },
  {
   "cell_type": "code",
   "execution_count": 81,
   "metadata": {},
   "outputs": [
    {
     "name": "stdout",
     "output_type": "stream",
     "text": [
      "ad\n",
      "['ad 1' 'ad 2' 'ad 3' 'ad 4' 'ad 5' 'ad 6' 'ad 7' 'ad 8' 'ad 9' 'ad 10'\n",
      " 'ad 11' 'ad 12' 'ad 13' 'ad 14' 'ad 15' 'ad 16' 'ad 17' 'ad 18' 'ad 19'\n",
      " 'ad 20' 'ad 21' 'ad 22' 'ad 23' 'ad 24' 'ad 25' 'ad 26' 'ad 27' 'ad 28'\n",
      " 'ad 29' 'ad 30' 'ad 31' 'ad 32' 'ad 33' 'ad 34' 'ad 35' 'ad 36' 'ad 37'\n",
      " 'ad 38' 'ad 39' 'ad 40' 'ad 41' 'ad 42' 'ad 43' 'ad 44' 'ad 45' 'ad 46'\n",
      " 'ad 47' 'ad 48' 'ad 49' 'ad 50' 'ad 51' 'ad 52' 'ad 53' 'ad 54' 'ad 55'\n",
      " 'ad 56' 'ad 57' 'ad 58' 'ad 59' 'ad 60' 'ad 61' 'ad 62' 'ad 63' 'ad 64'\n",
      " 'ad 65' 'ad 66' 'ad 67' 'ad 68' 'ad 69' 'ad 70']\n",
      "------------------------------------\n",
      "campaign\n",
      "['campaign 1']\n",
      "------------------------------------\n",
      "date\n",
      "['01-08-2020' '02-08-2020' '03-08-2020' '04-08-2020' '05-08-2020'\n",
      " '06-08-2020' '07-08-2020' '08-08-2020' '09-08-2020' '10-08-2020'\n",
      " '11-08-2020' '12-08-2020' '13-08-2020' '14-08-2020' '15-08-2020'\n",
      " '16-08-2020' '17-08-2020' '18-08-2020' '19-08-2020' '20-08-2020'\n",
      " '21-08-2020' '22-08-2020' '23-08-2020' '24-08-2020' '25-08-2020'\n",
      " '26-08-2020' '27-08-2020' '28-08-2020' '29-08-2020' '30-08-2020'\n",
      " '31-08-2020' '01-09-2020' '02-09-2020' '03-09-2020' '04-09-2020'\n",
      " '05-09-2020' '06-09-2020' '07-09-2020' '08-09-2020' '09-09-2020'\n",
      " '10-09-2020' '11-09-2020' '12-09-2020' '13-09-2020' '14-09-2020'\n",
      " '15-09-2020' '16-09-2020' '17-09-2020' '18-09-2020' '19-09-2020'\n",
      " '20-09-2020' '21-09-2020' '22-09-2020' '23-09-2020' '24-09-2020'\n",
      " '25-09-2020' '26-09-2020' '27-09-2020' '28-09-2020' '29-09-2020'\n",
      " '30-09-2020' '01-10-2020' '02-10-2020' '03-10-2020' '04-10-2020'\n",
      " '05-10-2020' '06-10-2020' '07-10-2020' '08-10-2020' '09-10-2020'\n",
      " '10-10-2020' '11-10-2020' '12-10-2020' '13-10-2020' '14-10-2020'\n",
      " '15-10-2020' '16-10-2020' '17-10-2020' '18-10-2020' '19-10-2020'\n",
      " '20-10-2020' '21-10-2020' '22-10-2020' '23-10-2020' '24-10-2020'\n",
      " '25-10-2020' '26-10-2020' '27-10-2020' '28-10-2020' '29-10-2020'\n",
      " '30-10-2020' '31-10-2020' '01-11-2020' '02-11-2020' '03-11-2020'\n",
      " '04-11-2020' '05-11-2020' '06-11-2020' '07-11-2020' '08-11-2020'\n",
      " '09-11-2020' '10-11-2020' '11-11-2020' '12-11-2020' '13-11-2020'\n",
      " '14-11-2020' '15-11-2020' '16-11-2020' '17-11-2020' '18-11-2020'\n",
      " '19-11-2020' '20-11-2020' '21-11-2020' '22-11-2020' '23-11-2020'\n",
      " '24-11-2020' '25-11-2020' '26-11-2020' '27-11-2020' '28-11-2020'\n",
      " '29-11-2020' '30-11-2020' '01-12-2020' '02-12-2020' '03-12-2020'\n",
      " '04-12-2020' '05-12-2020' '06-12-2020' '07-12-2020' '08-12-2020'\n",
      " '09-12-2020' '10-12-2020' '11-12-2020' '12-12-2020' '13-12-2020'\n",
      " '14-12-2020' '15-12-2020' '16-12-2020' '17-12-2020' '18-12-2020'\n",
      " '19-12-2020' '20-12-2020' '21-12-2020' '22-12-2020' '23-12-2020'\n",
      " '24-12-2020' '25-12-2020' '26-12-2020' '27-12-2020' '28-12-2020'\n",
      " '29-12-2020' '30-12-2020' '31-12-2020' '01-01-2021' '02-01-2021'\n",
      " '03-01-2021' '04-01-2021' '05-01-2021' '06-01-2021' '07-01-2021'\n",
      " '08-01-2021' '09-01-2021' '10-01-2021' '11-01-2021' '12-01-2021'\n",
      " '13-01-2021' '14-01-2021' '15-01-2021' '16-01-2021' '17-01-2021'\n",
      " '18-01-2021' '19-01-2021' '20-01-2021' '21-01-2021' '22-01-2021'\n",
      " '23-01-2021' '24-01-2021' '25-01-2021' '26-01-2021' '27-01-2021'\n",
      " '28-01-2021' '29-01-2021' '30-01-2021' '31-01-2021' '01-02-2021'\n",
      " '02-02-2021' '03-02-2021' '04-02-2021' '05-02-2021' '06-02-2021'\n",
      " '07-02-2021' '08-02-2021' '09-02-2021' '10-02-2021' '11-02-2021'\n",
      " '12-02-2021' '13-02-2021' '14-02-2021' '15-02-2021' '16-02-2021'\n",
      " '17-02-2021' '18-02-2021' '19-02-2021' '20-02-2021' '21-02-2021'\n",
      " '22-02-2021' '23-02-2021' '24-02-2021' '25-02-2021' '26-02-2021'\n",
      " '27-02-2021' '28-02-2021']\n",
      "------------------------------------\n",
      "adgroup\n",
      "['adgroup 1' 'adgroup 2' 'adgroup 3' 'adgroup 4']\n",
      "------------------------------------\n"
     ]
    }
   ],
   "source": [
    "for i in cat_feat:\n",
    "    print(i)\n",
    "    print(dataset[i].unique())\n",
    "    print(\"------------------------------------\")"
   ]
  },
  {
   "cell_type": "code",
   "execution_count": 82,
   "metadata": {},
   "outputs": [],
   "source": [
    "from sklearn.preprocessing import LabelEncoder\n",
    "label = LabelEncoder()\n",
    "for i in cat_feat:\n",
    "    dataset[i] = label.fit_transform(dataset[i])"
   ]
  },
  {
   "cell_type": "code",
   "execution_count": 83,
   "metadata": {},
   "outputs": [
    {
     "data": {
      "text/html": [
       "<div>\n",
       "<style scoped>\n",
       "    .dataframe tbody tr th:only-of-type {\n",
       "        vertical-align: middle;\n",
       "    }\n",
       "\n",
       "    .dataframe tbody tr th {\n",
       "        vertical-align: top;\n",
       "    }\n",
       "\n",
       "    .dataframe thead th {\n",
       "        text-align: right;\n",
       "    }\n",
       "</style>\n",
       "<table border=\"1\" class=\"dataframe\">\n",
       "  <thead>\n",
       "    <tr style=\"text-align: right;\">\n",
       "      <th></th>\n",
       "      <th>date</th>\n",
       "      <th>campaign</th>\n",
       "      <th>adgroup</th>\n",
       "      <th>ad</th>\n",
       "      <th>impressions</th>\n",
       "      <th>clicks</th>\n",
       "      <th>cost</th>\n",
       "      <th>conversions</th>\n",
       "      <th>revenue</th>\n",
       "    </tr>\n",
       "  </thead>\n",
       "  <tbody>\n",
       "    <tr>\n",
       "      <th>0</th>\n",
       "      <td>2</td>\n",
       "      <td>0</td>\n",
       "      <td>0</td>\n",
       "      <td>0</td>\n",
       "      <td>24</td>\n",
       "      <td>6</td>\n",
       "      <td>0.08</td>\n",
       "      <td>0</td>\n",
       "      <td>0.0</td>\n",
       "    </tr>\n",
       "    <tr>\n",
       "      <th>1</th>\n",
       "      <td>2</td>\n",
       "      <td>0</td>\n",
       "      <td>1</td>\n",
       "      <td>0</td>\n",
       "      <td>1</td>\n",
       "      <td>0</td>\n",
       "      <td>0.00</td>\n",
       "      <td>0</td>\n",
       "      <td>0.0</td>\n",
       "    </tr>\n",
       "  </tbody>\n",
       "</table>\n",
       "</div>"
      ],
      "text/plain": [
       "   date  campaign  adgroup  ad  impressions  clicks  cost  conversions  \\\n",
       "0     2         0        0   0           24       6  0.08            0   \n",
       "1     2         0        1   0            1       0  0.00            0   \n",
       "\n",
       "   revenue  \n",
       "0      0.0  \n",
       "1      0.0  "
      ]
     },
     "execution_count": 83,
     "metadata": {},
     "output_type": "execute_result"
    }
   ],
   "source": [
    "dataset.head(2)"
   ]
  },
  {
   "cell_type": "code",
   "execution_count": 84,
   "metadata": {},
   "outputs": [
    {
     "data": {
      "text/plain": [
       "date             int32\n",
       "campaign         int32\n",
       "adgroup          int32\n",
       "ad               int32\n",
       "impressions      int64\n",
       "clicks           int64\n",
       "cost           float64\n",
       "conversions      int64\n",
       "revenue        float64\n",
       "dtype: object"
      ]
     },
     "execution_count": 84,
     "metadata": {},
     "output_type": "execute_result"
    }
   ],
   "source": [
    "dataset.dtypes"
   ]
  },
  {
   "cell_type": "code",
   "execution_count": 85,
   "metadata": {},
   "outputs": [
    {
     "data": {
      "text/html": [
       "<div>\n",
       "<style scoped>\n",
       "    .dataframe tbody tr th:only-of-type {\n",
       "        vertical-align: middle;\n",
       "    }\n",
       "\n",
       "    .dataframe tbody tr th {\n",
       "        vertical-align: top;\n",
       "    }\n",
       "\n",
       "    .dataframe thead th {\n",
       "        text-align: right;\n",
       "    }\n",
       "</style>\n",
       "<table border=\"1\" class=\"dataframe\">\n",
       "  <thead>\n",
       "    <tr style=\"text-align: right;\">\n",
       "      <th></th>\n",
       "      <th>date</th>\n",
       "      <th>campaign</th>\n",
       "      <th>adgroup</th>\n",
       "      <th>ad</th>\n",
       "      <th>impressions</th>\n",
       "      <th>clicks</th>\n",
       "      <th>cost</th>\n",
       "      <th>conversions</th>\n",
       "      <th>revenue</th>\n",
       "    </tr>\n",
       "  </thead>\n",
       "  <tbody>\n",
       "    <tr>\n",
       "      <th>0</th>\n",
       "      <td>2</td>\n",
       "      <td>0</td>\n",
       "      <td>0</td>\n",
       "      <td>0</td>\n",
       "      <td>24</td>\n",
       "      <td>6</td>\n",
       "      <td>0.08</td>\n",
       "      <td>0</td>\n",
       "      <td>0.0</td>\n",
       "    </tr>\n",
       "    <tr>\n",
       "      <th>1</th>\n",
       "      <td>2</td>\n",
       "      <td>0</td>\n",
       "      <td>1</td>\n",
       "      <td>0</td>\n",
       "      <td>1</td>\n",
       "      <td>0</td>\n",
       "      <td>0.00</td>\n",
       "      <td>0</td>\n",
       "      <td>0.0</td>\n",
       "    </tr>\n",
       "  </tbody>\n",
       "</table>\n",
       "</div>"
      ],
      "text/plain": [
       "   date  campaign  adgroup  ad  impressions  clicks  cost  conversions  \\\n",
       "0     2         0        0   0           24       6  0.08            0   \n",
       "1     2         0        1   0            1       0  0.00            0   \n",
       "\n",
       "   revenue  \n",
       "0      0.0  \n",
       "1      0.0  "
      ]
     },
     "execution_count": 85,
     "metadata": {},
     "output_type": "execute_result"
    }
   ],
   "source": [
    "dataset.to_csv('final_dataset',header=True, index=False)\n",
    "final_dataset = pd.read_csv('./final_dataset')\n",
    "final_dataset.head(2)"
   ]
  },
  {
   "cell_type": "code",
   "execution_count": 86,
   "metadata": {},
   "outputs": [],
   "source": [
    "X_train = final_dataset.drop('revenue', axis=1)\n",
    "y_train = final_dataset['revenue']"
   ]
  },
  {
   "cell_type": "code",
   "execution_count": 87,
   "metadata": {},
   "outputs": [],
   "source": [
    "columns = X_train.columns\n",
    "from sklearn.preprocessing import StandardScaler\n",
    "scale = StandardScaler()\n",
    "scaled = scale.fit(X_train)\n",
    "X_train_scaled = pd.DataFrame(scale.transform(X_train), columns=columns)"
   ]
  },
  {
   "cell_type": "code",
   "execution_count": 88,
   "metadata": {},
   "outputs": [
    {
     "data": {
      "text/html": [
       "<div>\n",
       "<style scoped>\n",
       "    .dataframe tbody tr th:only-of-type {\n",
       "        vertical-align: middle;\n",
       "    }\n",
       "\n",
       "    .dataframe tbody tr th {\n",
       "        vertical-align: top;\n",
       "    }\n",
       "\n",
       "    .dataframe thead th {\n",
       "        text-align: right;\n",
       "    }\n",
       "</style>\n",
       "<table border=\"1\" class=\"dataframe\">\n",
       "  <thead>\n",
       "    <tr style=\"text-align: right;\">\n",
       "      <th></th>\n",
       "      <th>date</th>\n",
       "      <th>campaign</th>\n",
       "      <th>adgroup</th>\n",
       "      <th>ad</th>\n",
       "      <th>impressions</th>\n",
       "      <th>clicks</th>\n",
       "      <th>cost</th>\n",
       "      <th>conversions</th>\n",
       "    </tr>\n",
       "  </thead>\n",
       "  <tbody>\n",
       "    <tr>\n",
       "      <th>0</th>\n",
       "      <td>-1.674046</td>\n",
       "      <td>0.0</td>\n",
       "      <td>-1.328065</td>\n",
       "      <td>-1.291476</td>\n",
       "      <td>-0.346072</td>\n",
       "      <td>-0.372834</td>\n",
       "      <td>-0.189472</td>\n",
       "      <td>-0.256367</td>\n",
       "    </tr>\n",
       "    <tr>\n",
       "      <th>1</th>\n",
       "      <td>-1.674046</td>\n",
       "      <td>0.0</td>\n",
       "      <td>-0.414508</td>\n",
       "      <td>-1.291476</td>\n",
       "      <td>-0.462041</td>\n",
       "      <td>-0.432742</td>\n",
       "      <td>-0.195043</td>\n",
       "      <td>-0.256367</td>\n",
       "    </tr>\n",
       "  </tbody>\n",
       "</table>\n",
       "</div>"
      ],
      "text/plain": [
       "       date  campaign   adgroup        ad  impressions    clicks      cost  \\\n",
       "0 -1.674046       0.0 -1.328065 -1.291476    -0.346072 -0.372834 -0.189472   \n",
       "1 -1.674046       0.0 -0.414508 -1.291476    -0.462041 -0.432742 -0.195043   \n",
       "\n",
       "   conversions  \n",
       "0    -0.256367  \n",
       "1    -0.256367  "
      ]
     },
     "execution_count": 88,
     "metadata": {},
     "output_type": "execute_result"
    }
   ],
   "source": [
    "X_train_scaled.head(2)"
   ]
  },
  {
   "cell_type": "code",
   "execution_count": 89,
   "metadata": {},
   "outputs": [
    {
     "data": {
      "text/html": [
       "<div>\n",
       "<style scoped>\n",
       "    .dataframe tbody tr th:only-of-type {\n",
       "        vertical-align: middle;\n",
       "    }\n",
       "\n",
       "    .dataframe tbody tr th {\n",
       "        vertical-align: top;\n",
       "    }\n",
       "\n",
       "    .dataframe thead th {\n",
       "        text-align: right;\n",
       "    }\n",
       "</style>\n",
       "<table border=\"1\" class=\"dataframe\">\n",
       "  <thead>\n",
       "    <tr style=\"text-align: right;\">\n",
       "      <th></th>\n",
       "      <th>date</th>\n",
       "      <th>campaign</th>\n",
       "      <th>adgroup</th>\n",
       "      <th>ad</th>\n",
       "      <th>cost</th>\n",
       "      <th>impressions</th>\n",
       "      <th>clicks</th>\n",
       "      <th>conversions</th>\n",
       "    </tr>\n",
       "  </thead>\n",
       "  <tbody>\n",
       "    <tr>\n",
       "      <th>0</th>\n",
       "      <td>01-03-2021</td>\n",
       "      <td>campaign 1</td>\n",
       "      <td>adgroup 1</td>\n",
       "      <td>ad 1</td>\n",
       "      <td>0.58</td>\n",
       "      <td>121</td>\n",
       "      <td>49</td>\n",
       "      <td>1</td>\n",
       "    </tr>\n",
       "    <tr>\n",
       "      <th>1</th>\n",
       "      <td>01-03-2021</td>\n",
       "      <td>campaign 1</td>\n",
       "      <td>adgroup 3</td>\n",
       "      <td>ad 1</td>\n",
       "      <td>0.17</td>\n",
       "      <td>22</td>\n",
       "      <td>12</td>\n",
       "      <td>0</td>\n",
       "    </tr>\n",
       "  </tbody>\n",
       "</table>\n",
       "</div>"
      ],
      "text/plain": [
       "         date    campaign    adgroup    ad  cost  impressions  clicks  \\\n",
       "0  01-03-2021  campaign 1  adgroup 1  ad 1  0.58          121      49   \n",
       "1  01-03-2021  campaign 1  adgroup 3  ad 1  0.17           22      12   \n",
       "\n",
       "   conversions  \n",
       "0            1  \n",
       "1            0  "
      ]
     },
     "execution_count": 89,
     "metadata": {},
     "output_type": "execute_result"
    }
   ],
   "source": [
    "test_data = pd.read_csv('Test_Data.csv')\n",
    "test_data.head(2)"
   ]
  },
  {
   "cell_type": "code",
   "execution_count": 90,
   "metadata": {},
   "outputs": [],
   "source": [
    "test_data.drop(dropped_col, axis=1, inplace=True)"
   ]
  },
  {
   "cell_type": "code",
   "execution_count": 91,
   "metadata": {},
   "outputs": [
    {
     "data": {
      "text/html": [
       "<div>\n",
       "<style scoped>\n",
       "    .dataframe tbody tr th:only-of-type {\n",
       "        vertical-align: middle;\n",
       "    }\n",
       "\n",
       "    .dataframe tbody tr th {\n",
       "        vertical-align: top;\n",
       "    }\n",
       "\n",
       "    .dataframe thead th {\n",
       "        text-align: right;\n",
       "    }\n",
       "</style>\n",
       "<table border=\"1\" class=\"dataframe\">\n",
       "  <thead>\n",
       "    <tr style=\"text-align: right;\">\n",
       "      <th></th>\n",
       "      <th>date</th>\n",
       "      <th>campaign</th>\n",
       "      <th>adgroup</th>\n",
       "      <th>ad</th>\n",
       "      <th>cost</th>\n",
       "      <th>impressions</th>\n",
       "      <th>clicks</th>\n",
       "      <th>conversions</th>\n",
       "    </tr>\n",
       "  </thead>\n",
       "  <tbody>\n",
       "    <tr>\n",
       "      <th>0</th>\n",
       "      <td>0</td>\n",
       "      <td>0</td>\n",
       "      <td>0</td>\n",
       "      <td>0</td>\n",
       "      <td>0.58</td>\n",
       "      <td>121</td>\n",
       "      <td>49</td>\n",
       "      <td>1</td>\n",
       "    </tr>\n",
       "    <tr>\n",
       "      <th>1</th>\n",
       "      <td>0</td>\n",
       "      <td>0</td>\n",
       "      <td>2</td>\n",
       "      <td>0</td>\n",
       "      <td>0.17</td>\n",
       "      <td>22</td>\n",
       "      <td>12</td>\n",
       "      <td>0</td>\n",
       "    </tr>\n",
       "    <tr>\n",
       "      <th>2</th>\n",
       "      <td>0</td>\n",
       "      <td>0</td>\n",
       "      <td>3</td>\n",
       "      <td>0</td>\n",
       "      <td>0.05</td>\n",
       "      <td>5</td>\n",
       "      <td>3</td>\n",
       "      <td>0</td>\n",
       "    </tr>\n",
       "    <tr>\n",
       "      <th>3</th>\n",
       "      <td>0</td>\n",
       "      <td>0</td>\n",
       "      <td>1</td>\n",
       "      <td>0</td>\n",
       "      <td>0.01</td>\n",
       "      <td>2</td>\n",
       "      <td>1</td>\n",
       "      <td>0</td>\n",
       "    </tr>\n",
       "    <tr>\n",
       "      <th>4</th>\n",
       "      <td>0</td>\n",
       "      <td>0</td>\n",
       "      <td>1</td>\n",
       "      <td>2</td>\n",
       "      <td>0.01</td>\n",
       "      <td>3</td>\n",
       "      <td>1</td>\n",
       "      <td>0</td>\n",
       "    </tr>\n",
       "  </tbody>\n",
       "</table>\n",
       "</div>"
      ],
      "text/plain": [
       "   date  campaign  adgroup  ad  cost  impressions  clicks  conversions\n",
       "0     0         0        0   0  0.58          121      49            1\n",
       "1     0         0        2   0  0.17           22      12            0\n",
       "2     0         0        3   0  0.05            5       3            0\n",
       "3     0         0        1   0  0.01            2       1            0\n",
       "4     0         0        1   2  0.01            3       1            0"
      ]
     },
     "execution_count": 91,
     "metadata": {},
     "output_type": "execute_result"
    }
   ],
   "source": [
    "label = LabelEncoder()\n",
    "for i in cat_feat:\n",
    "    test_data[i] = label.fit_transform(test_data[i])\n",
    "test_data.head()"
   ]
  },
  {
   "cell_type": "code",
   "execution_count": 92,
   "metadata": {},
   "outputs": [
    {
     "data": {
      "text/plain": [
       "date           0\n",
       "campaign       0\n",
       "adgroup        0\n",
       "ad             0\n",
       "cost           0\n",
       "impressions    0\n",
       "clicks         0\n",
       "conversions    0\n",
       "dtype: int64"
      ]
     },
     "execution_count": 92,
     "metadata": {},
     "output_type": "execute_result"
    }
   ],
   "source": [
    "test_data.isnull().sum()"
   ]
  },
  {
   "cell_type": "code",
   "execution_count": 93,
   "metadata": {},
   "outputs": [
    {
     "data": {
      "text/plain": [
       "[]"
      ]
     },
     "execution_count": 93,
     "metadata": {},
     "output_type": "execute_result"
    }
   ],
   "source": [
    "test_null = [i for i in test_data.columns if test_data[i].isnull().sum() > 0]\n",
    "test_null"
   ]
  },
  {
   "cell_type": "code",
   "execution_count": 94,
   "metadata": {},
   "outputs": [
    {
     "data": {
      "text/plain": [
       "Series([], dtype: object)"
      ]
     },
     "execution_count": 94,
     "metadata": {},
     "output_type": "execute_result"
    }
   ],
   "source": [
    "test_data[test_null].dtypes"
   ]
  },
  {
   "cell_type": "code",
   "execution_count": 95,
   "metadata": {},
   "outputs": [],
   "source": [
    "for i in test_null:\n",
    "    test_data[i].fillna(test_data[i].mean(), inplace = True)"
   ]
  },
  {
   "cell_type": "code",
   "execution_count": 96,
   "metadata": {},
   "outputs": [
    {
     "data": {
      "text/plain": [
       "date           0\n",
       "campaign       0\n",
       "adgroup        0\n",
       "ad             0\n",
       "cost           0\n",
       "impressions    0\n",
       "clicks         0\n",
       "conversions    0\n",
       "dtype: int64"
      ]
     },
     "execution_count": 96,
     "metadata": {},
     "output_type": "execute_result"
    }
   ],
   "source": [
    "test_data.isnull().sum()"
   ]
  },
  {
   "cell_type": "code",
   "execution_count": 97,
   "metadata": {},
   "outputs": [
    {
     "data": {
      "text/plain": [
       "(318, 8)"
      ]
     },
     "execution_count": 97,
     "metadata": {},
     "output_type": "execute_result"
    }
   ],
   "source": [
    "test_data.shape"
   ]
  },
  {
   "cell_type": "code",
   "execution_count": 98,
   "metadata": {},
   "outputs": [],
   "source": [
    "X_test = scale.fit(test_data)\n",
    "X_test_scaled = pd.DataFrame(scale.transform(test_data), columns=columns)"
   ]
  },
  {
   "cell_type": "code",
   "execution_count": 99,
   "metadata": {},
   "outputs": [
    {
     "data": {
      "text/html": [
       "<div>\n",
       "<style scoped>\n",
       "    .dataframe tbody tr th:only-of-type {\n",
       "        vertical-align: middle;\n",
       "    }\n",
       "\n",
       "    .dataframe tbody tr th {\n",
       "        vertical-align: top;\n",
       "    }\n",
       "\n",
       "    .dataframe thead th {\n",
       "        text-align: right;\n",
       "    }\n",
       "</style>\n",
       "<table border=\"1\" class=\"dataframe\">\n",
       "  <thead>\n",
       "    <tr style=\"text-align: right;\">\n",
       "      <th></th>\n",
       "      <th>date</th>\n",
       "      <th>campaign</th>\n",
       "      <th>adgroup</th>\n",
       "      <th>ad</th>\n",
       "      <th>impressions</th>\n",
       "      <th>clicks</th>\n",
       "      <th>cost</th>\n",
       "      <th>conversions</th>\n",
       "    </tr>\n",
       "  </thead>\n",
       "  <tbody>\n",
       "    <tr>\n",
       "      <th>0</th>\n",
       "      <td>-1.708476</td>\n",
       "      <td>0.0</td>\n",
       "      <td>-1.312635</td>\n",
       "      <td>-1.358759</td>\n",
       "      <td>0.336378</td>\n",
       "      <td>0.533645</td>\n",
       "      <td>0.427218</td>\n",
       "      <td>0.108337</td>\n",
       "    </tr>\n",
       "    <tr>\n",
       "      <th>1</th>\n",
       "      <td>-1.708476</td>\n",
       "      <td>0.0</td>\n",
       "      <td>0.555007</td>\n",
       "      <td>-1.358759</td>\n",
       "      <td>-0.357891</td>\n",
       "      <td>-0.447332</td>\n",
       "      <td>-0.392656</td>\n",
       "      <td>-0.447328</td>\n",
       "    </tr>\n",
       "  </tbody>\n",
       "</table>\n",
       "</div>"
      ],
      "text/plain": [
       "       date  campaign   adgroup        ad  impressions    clicks      cost  \\\n",
       "0 -1.708476       0.0 -1.312635 -1.358759     0.336378  0.533645  0.427218   \n",
       "1 -1.708476       0.0  0.555007 -1.358759    -0.357891 -0.447332 -0.392656   \n",
       "\n",
       "   conversions  \n",
       "0     0.108337  \n",
       "1    -0.447328  "
      ]
     },
     "execution_count": 99,
     "metadata": {},
     "output_type": "execute_result"
    }
   ],
   "source": [
    "X_test_scaled.head(2)"
   ]
  },
  {
   "cell_type": "code",
   "execution_count": 100,
   "metadata": {},
   "outputs": [
    {
     "data": {
      "text/plain": [
       "0.9600984068994028"
      ]
     },
     "execution_count": 100,
     "metadata": {},
     "output_type": "execute_result"
    }
   ],
   "source": [
    "from sklearn.ensemble import AdaBoostRegressor\n",
    "lin_reg = AdaBoostRegressor(random_state = 24, n_estimators = 35)\n",
    "model = lin_reg.fit(X_train_scaled, y_train)\n",
    "model.score(X_train_scaled, y_train)"
   ]
  },
  {
   "cell_type": "code",
   "execution_count": 101,
   "metadata": {},
   "outputs": [],
   "source": [
    "sample = pd.read_csv('Sample_Submission.csv')\n",
    "y_pred = model.predict(X_test_scaled)\n",
    "result = pd.DataFrame({sample.columns[0] : y_pred})\n",
    "result.to_csv('submission.csv', index=False)"
   ]
  }
 ],
 "metadata": {
  "kernelspec": {
   "display_name": "Python 3",
   "language": "python",
   "name": "python3"
  },
  "language_info": {
   "codemirror_mode": {
    "name": "ipython",
    "version": 3
   },
   "file_extension": ".py",
   "mimetype": "text/x-python",
   "name": "python",
   "nbconvert_exporter": "python",
   "pygments_lexer": "ipython3",
   "version": "3.8.3"
  }
 },
 "nbformat": 4,
 "nbformat_minor": 4
}
