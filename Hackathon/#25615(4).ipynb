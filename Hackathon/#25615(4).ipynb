{
 "cells": [
  {
   "cell_type": "code",
   "execution_count": 62,
   "metadata": {},
   "outputs": [],
   "source": [
    "import numpy as np\n",
    "import pandas as pd\n",
    "import sklearn\n",
    "import seaborn as sns\n",
    "import matplotlib.pyplot as plt\n",
    "from scipy.stats import norm, skew\n",
    "from scipy.special import boxcox1p"
   ]
  },
  {
   "cell_type": "code",
   "execution_count": 63,
   "metadata": {},
   "outputs": [
    {
     "data": {
      "text/html": [
       "<div>\n",
       "<style scoped>\n",
       "    .dataframe tbody tr th:only-of-type {\n",
       "        vertical-align: middle;\n",
       "    }\n",
       "\n",
       "    .dataframe tbody tr th {\n",
       "        vertical-align: top;\n",
       "    }\n",
       "\n",
       "    .dataframe thead th {\n",
       "        text-align: right;\n",
       "    }\n",
       "</style>\n",
       "<table border=\"1\" class=\"dataframe\">\n",
       "  <thead>\n",
       "    <tr style=\"text-align: right;\">\n",
       "      <th></th>\n",
       "      <th>date</th>\n",
       "      <th>campaign</th>\n",
       "      <th>adgroup</th>\n",
       "      <th>ad</th>\n",
       "      <th>impressions</th>\n",
       "      <th>clicks</th>\n",
       "      <th>cost</th>\n",
       "      <th>conversions</th>\n",
       "      <th>revenue</th>\n",
       "    </tr>\n",
       "  </thead>\n",
       "  <tbody>\n",
       "    <tr>\n",
       "      <th>0</th>\n",
       "      <td>01-08-2020</td>\n",
       "      <td>campaign 1</td>\n",
       "      <td>adgroup 1</td>\n",
       "      <td>ad 1</td>\n",
       "      <td>24</td>\n",
       "      <td>6</td>\n",
       "      <td>0.08</td>\n",
       "      <td>0</td>\n",
       "      <td>0.00</td>\n",
       "    </tr>\n",
       "    <tr>\n",
       "      <th>1</th>\n",
       "      <td>01-08-2020</td>\n",
       "      <td>campaign 1</td>\n",
       "      <td>adgroup 2</td>\n",
       "      <td>ad 1</td>\n",
       "      <td>1</td>\n",
       "      <td>0</td>\n",
       "      <td>0.00</td>\n",
       "      <td>0</td>\n",
       "      <td>0.00</td>\n",
       "    </tr>\n",
       "    <tr>\n",
       "      <th>2</th>\n",
       "      <td>01-08-2020</td>\n",
       "      <td>campaign 1</td>\n",
       "      <td>adgroup 3</td>\n",
       "      <td>ad 1</td>\n",
       "      <td>13</td>\n",
       "      <td>4</td>\n",
       "      <td>0.04</td>\n",
       "      <td>0</td>\n",
       "      <td>0.00</td>\n",
       "    </tr>\n",
       "    <tr>\n",
       "      <th>3</th>\n",
       "      <td>01-08-2020</td>\n",
       "      <td>campaign 1</td>\n",
       "      <td>adgroup 4</td>\n",
       "      <td>ad 1</td>\n",
       "      <td>5</td>\n",
       "      <td>4</td>\n",
       "      <td>0.08</td>\n",
       "      <td>0</td>\n",
       "      <td>0.00</td>\n",
       "    </tr>\n",
       "    <tr>\n",
       "      <th>4</th>\n",
       "      <td>01-08-2020</td>\n",
       "      <td>campaign 1</td>\n",
       "      <td>adgroup 1</td>\n",
       "      <td>ad 2</td>\n",
       "      <td>247</td>\n",
       "      <td>126</td>\n",
       "      <td>1.29</td>\n",
       "      <td>4</td>\n",
       "      <td>925.71</td>\n",
       "    </tr>\n",
       "  </tbody>\n",
       "</table>\n",
       "</div>"
      ],
      "text/plain": [
       "         date    campaign    adgroup    ad  impressions  clicks  cost  \\\n",
       "0  01-08-2020  campaign 1  adgroup 1  ad 1           24       6  0.08   \n",
       "1  01-08-2020  campaign 1  adgroup 2  ad 1            1       0  0.00   \n",
       "2  01-08-2020  campaign 1  adgroup 3  ad 1           13       4  0.04   \n",
       "3  01-08-2020  campaign 1  adgroup 4  ad 1            5       4  0.08   \n",
       "4  01-08-2020  campaign 1  adgroup 1  ad 2          247     126  1.29   \n",
       "\n",
       "   conversions  revenue  \n",
       "0            0     0.00  \n",
       "1            0     0.00  \n",
       "2            0     0.00  \n",
       "3            0     0.00  \n",
       "4            4   925.71  "
      ]
     },
     "execution_count": 63,
     "metadata": {},
     "output_type": "execute_result"
    }
   ],
   "source": [
    "train = pd.read_csv('Train_Data.csv')\n",
    "train.head()\n"
   ]
  },
  {
   "cell_type": "code",
   "execution_count": 64,
   "metadata": {},
   "outputs": [
    {
     "data": {
      "text/html": [
       "<div>\n",
       "<style scoped>\n",
       "    .dataframe tbody tr th:only-of-type {\n",
       "        vertical-align: middle;\n",
       "    }\n",
       "\n",
       "    .dataframe tbody tr th {\n",
       "        vertical-align: top;\n",
       "    }\n",
       "\n",
       "    .dataframe thead th {\n",
       "        text-align: right;\n",
       "    }\n",
       "</style>\n",
       "<table border=\"1\" class=\"dataframe\">\n",
       "  <thead>\n",
       "    <tr style=\"text-align: right;\">\n",
       "      <th></th>\n",
       "      <th>date</th>\n",
       "      <th>campaign</th>\n",
       "      <th>adgroup</th>\n",
       "      <th>ad</th>\n",
       "      <th>cost</th>\n",
       "      <th>impressions</th>\n",
       "      <th>clicks</th>\n",
       "      <th>conversions</th>\n",
       "    </tr>\n",
       "  </thead>\n",
       "  <tbody>\n",
       "    <tr>\n",
       "      <th>0</th>\n",
       "      <td>01-03-2021</td>\n",
       "      <td>campaign 1</td>\n",
       "      <td>adgroup 1</td>\n",
       "      <td>ad 1</td>\n",
       "      <td>0.58</td>\n",
       "      <td>121</td>\n",
       "      <td>49</td>\n",
       "      <td>1</td>\n",
       "    </tr>\n",
       "    <tr>\n",
       "      <th>1</th>\n",
       "      <td>01-03-2021</td>\n",
       "      <td>campaign 1</td>\n",
       "      <td>adgroup 3</td>\n",
       "      <td>ad 1</td>\n",
       "      <td>0.17</td>\n",
       "      <td>22</td>\n",
       "      <td>12</td>\n",
       "      <td>0</td>\n",
       "    </tr>\n",
       "    <tr>\n",
       "      <th>2</th>\n",
       "      <td>01-03-2021</td>\n",
       "      <td>campaign 1</td>\n",
       "      <td>adgroup 4</td>\n",
       "      <td>ad 1</td>\n",
       "      <td>0.05</td>\n",
       "      <td>5</td>\n",
       "      <td>3</td>\n",
       "      <td>0</td>\n",
       "    </tr>\n",
       "    <tr>\n",
       "      <th>3</th>\n",
       "      <td>01-03-2021</td>\n",
       "      <td>campaign 1</td>\n",
       "      <td>adgroup 2</td>\n",
       "      <td>ad 1</td>\n",
       "      <td>0.01</td>\n",
       "      <td>2</td>\n",
       "      <td>1</td>\n",
       "      <td>0</td>\n",
       "    </tr>\n",
       "    <tr>\n",
       "      <th>4</th>\n",
       "      <td>01-03-2021</td>\n",
       "      <td>campaign 1</td>\n",
       "      <td>adgroup 2</td>\n",
       "      <td>ad 2</td>\n",
       "      <td>0.01</td>\n",
       "      <td>3</td>\n",
       "      <td>1</td>\n",
       "      <td>0</td>\n",
       "    </tr>\n",
       "  </tbody>\n",
       "</table>\n",
       "</div>"
      ],
      "text/plain": [
       "         date    campaign    adgroup    ad  cost  impressions  clicks  \\\n",
       "0  01-03-2021  campaign 1  adgroup 1  ad 1  0.58          121      49   \n",
       "1  01-03-2021  campaign 1  adgroup 3  ad 1  0.17           22      12   \n",
       "2  01-03-2021  campaign 1  adgroup 4  ad 1  0.05            5       3   \n",
       "3  01-03-2021  campaign 1  adgroup 2  ad 1  0.01            2       1   \n",
       "4  01-03-2021  campaign 1  adgroup 2  ad 2  0.01            3       1   \n",
       "\n",
       "   conversions  \n",
       "0            1  \n",
       "1            0  \n",
       "2            0  \n",
       "3            0  \n",
       "4            0  "
      ]
     },
     "execution_count": 64,
     "metadata": {},
     "output_type": "execute_result"
    }
   ],
   "source": [
    "train.shape\n",
    "test = pd.read_csv('Test_Data.csv')\n",
    "test.head()"
   ]
  },
  {
   "cell_type": "code",
   "execution_count": 65,
   "metadata": {},
   "outputs": [
    {
     "data": {
      "text/plain": [
       "(318, 8)"
      ]
     },
     "execution_count": 65,
     "metadata": {},
     "output_type": "execute_result"
    }
   ],
   "source": [
    "test.shape"
   ]
  },
  {
   "cell_type": "code",
   "execution_count": 66,
   "metadata": {},
   "outputs": [
    {
     "data": {
      "text/plain": [
       "Index(['date', 'campaign', 'adgroup', 'ad', 'impressions', 'clicks', 'cost',\n",
       "       'conversions', 'revenue'],\n",
       "      dtype='object')"
      ]
     },
     "execution_count": 66,
     "metadata": {},
     "output_type": "execute_result"
    }
   ],
   "source": [
    "train.columns"
   ]
  },
  {
   "cell_type": "code",
   "execution_count": 67,
   "metadata": {},
   "outputs": [
    {
     "data": {
      "text/plain": [
       "Index(['impressions', 'clicks', 'cost', 'conversions', 'revenue'], dtype='object')"
      ]
     },
     "metadata": {},
     "output_type": "display_data"
    },
    {
     "name": "stdout",
     "output_type": "stream",
     "text": [
      "\n",
      "Count: 5\n"
     ]
    }
   ],
   "source": [
    "num_cols = train._get_numeric_data().columns\n",
    "display(num_cols)\n",
    "print()\n",
    "print(\"Count:\", len(num_cols))"
   ]
  },
  {
   "cell_type": "code",
   "execution_count": 68,
   "metadata": {},
   "outputs": [
    {
     "data": {
      "image/png": "[encoded data removed]",
      "text/plain": [
       "<Figure size 1800x3240 with 5 Axes>"
      ]
     },
     "metadata": {
      "needs_background": "light"
     },
     "output_type": "display_data"
    }
   ],
   "source": [
    "plt.figure(figsize = (25,45))\n",
    "for i in enumerate(num_cols):\n",
    "    plt.subplot(13, 3, i[0]+ 1)\n",
    "    sns.boxplot(x = train[i[1]])\n",
    "    plt.xlabel(i[1])"
   ]
  },
  {
   "cell_type": "code",
   "execution_count": 69,
   "metadata": {},
   "outputs": [
    {
     "data": {
      "text/plain": [
       "<matplotlib.axes._subplots.AxesSubplot at 0x2a3bdd306d0>"
      ]
     },
     "execution_count": 69,
     "metadata": {},
     "output_type": "execute_result"
    },
    {
     "data": {
      "image/png": "[encoded data removed]",
      "text/plain": [
       "<Figure size 432x288 with 1 Axes>"
      ]
     },
     "metadata": {
      "needs_background": "light"
     },
     "output_type": "display_data"
    }
   ],
   "source": [
    "sns.heatmap(train.isnull(), cbar = False, yticklabels = False, cmap = 'viridis')"
   ]
  },
  {
   "cell_type": "code",
   "execution_count": 70,
   "metadata": {},
   "outputs": [
    {
     "data": {
      "text/plain": [
       "Series([], dtype: int64)"
      ]
     },
     "execution_count": 70,
     "metadata": {},
     "output_type": "execute_result"
    }
   ],
   "source": [
    "Null_train = train.isnull().sum()\n",
    "Null_train[Null_train > 0]"
   ]
  },
  {
   "cell_type": "code",
   "execution_count": 71,
   "metadata": {},
   "outputs": [],
   "source": [
    "def view_null_data(data):\n",
    "    return pd.DataFrame({\"Data Type\":data.dtypes, \"Unique Count\":data.apply(lambda x: x.nunique(),axis=0), \n",
    "                         \"Null Count\": data.isnull().sum() })\n"
   ]
  },
  {
   "cell_type": "code",
   "execution_count": 72,
   "metadata": {},
   "outputs": [
    {
     "data": {
      "text/plain": [
       "<matplotlib.axes._subplots.AxesSubplot at 0x2a3bdd59070>"
      ]
     },
     "execution_count": 72,
     "metadata": {},
     "output_type": "execute_result"
    },
    {
     "data": {
      "image/png": "[encoded data removed]",
      "text/plain": [
       "<Figure size 432x288 with 1 Axes>"
      ]
     },
     "metadata": {
      "needs_background": "light"
     },
     "output_type": "display_data"
    }
   ],
   "source": [
    "sns.heatmap(test.isnull(), yticklabels = False, cbar = False, cmap = 'viridis')"
   ]
  },
  {
   "cell_type": "code",
   "execution_count": 73,
   "metadata": {},
   "outputs": [
    {
     "data": {
      "text/plain": [
       "Series([], dtype: int64)"
      ]
     },
     "execution_count": 73,
     "metadata": {},
     "output_type": "execute_result"
    }
   ],
   "source": [
    "Null_test = test.isnull().sum()\n",
    "Null_test[Null_test > 0]"
   ]
  },
  {
   "cell_type": "code",
   "execution_count": 74,
   "metadata": {},
   "outputs": [
    {
     "data": {
      "text/html": [
       "<style  type=\"text/css\" >\n",
       "    #T_cd3b8165_e3b5_11eb_806c_8c47be1d5d2drow0_col0 {\n",
       "            background-color:  #023858;\n",
       "            color:  #f1f1f1;\n",
       "        }    #T_cd3b8165_e3b5_11eb_806c_8c47be1d5d2drow0_col1 {\n",
       "            background-color:  #03446a;\n",
       "            color:  #f1f1f1;\n",
       "        }    #T_cd3b8165_e3b5_11eb_806c_8c47be1d5d2drow0_col2 {\n",
       "            background-color:  #d2d3e7;\n",
       "            color:  #000000;\n",
       "        }    #T_cd3b8165_e3b5_11eb_806c_8c47be1d5d2drow0_col3 {\n",
       "            background-color:  #84b0d3;\n",
       "            color:  #000000;\n",
       "        }    #T_cd3b8165_e3b5_11eb_806c_8c47be1d5d2drow0_col4 {\n",
       "            background-color:  #93b5d6;\n",
       "            color:  #000000;\n",
       "        }    #T_cd3b8165_e3b5_11eb_806c_8c47be1d5d2drow1_col0 {\n",
       "            background-color:  #034369;\n",
       "            color:  #f1f1f1;\n",
       "        }    #T_cd3b8165_e3b5_11eb_806c_8c47be1d5d2drow1_col1 {\n",
       "            background-color:  #023858;\n",
       "            color:  #f1f1f1;\n",
       "        }    #T_cd3b8165_e3b5_11eb_806c_8c47be1d5d2drow1_col2 {\n",
       "            background-color:  #b5c4df;\n",
       "            color:  #000000;\n",
       "        }    #T_cd3b8165_e3b5_11eb_806c_8c47be1d5d2drow1_col3 {\n",
       "            background-color:  #549cc7;\n",
       "            color:  #000000;\n",
       "        }    #T_cd3b8165_e3b5_11eb_806c_8c47be1d5d2drow1_col4 {\n",
       "            background-color:  #6ba5cd;\n",
       "            color:  #000000;\n",
       "        }    #T_cd3b8165_e3b5_11eb_806c_8c47be1d5d2drow2_col0 {\n",
       "            background-color:  #fff7fb;\n",
       "            color:  #000000;\n",
       "        }    #T_cd3b8165_e3b5_11eb_806c_8c47be1d5d2drow2_col1 {\n",
       "            background-color:  #fff7fb;\n",
       "            color:  #000000;\n",
       "        }    #T_cd3b8165_e3b5_11eb_806c_8c47be1d5d2drow2_col2 {\n",
       "            background-color:  #023858;\n",
       "            color:  #f1f1f1;\n",
       "        }    #T_cd3b8165_e3b5_11eb_806c_8c47be1d5d2drow2_col3 {\n",
       "            background-color:  #fff7fb;\n",
       "            color:  #000000;\n",
       "        }    #T_cd3b8165_e3b5_11eb_806c_8c47be1d5d2drow2_col4 {\n",
       "            background-color:  #fff7fb;\n",
       "            color:  #000000;\n",
       "        }    #T_cd3b8165_e3b5_11eb_806c_8c47be1d5d2drow3_col0 {\n",
       "            background-color:  #8cb3d5;\n",
       "            color:  #000000;\n",
       "        }    #T_cd3b8165_e3b5_11eb_806c_8c47be1d5d2drow3_col1 {\n",
       "            background-color:  #78abd0;\n",
       "            color:  #000000;\n",
       "        }    #T_cd3b8165_e3b5_11eb_806c_8c47be1d5d2drow3_col2 {\n",
       "            background-color:  #d8d7e9;\n",
       "            color:  #000000;\n",
       "        }    #T_cd3b8165_e3b5_11eb_806c_8c47be1d5d2drow3_col3 {\n",
       "            background-color:  #023858;\n",
       "            color:  #f1f1f1;\n",
       "        }    #T_cd3b8165_e3b5_11eb_806c_8c47be1d5d2drow3_col4 {\n",
       "            background-color:  #034e7b;\n",
       "            color:  #f1f1f1;\n",
       "        }    #T_cd3b8165_e3b5_11eb_806c_8c47be1d5d2drow4_col0 {\n",
       "            background-color:  #d2d2e7;\n",
       "            color:  #000000;\n",
       "        }    #T_cd3b8165_e3b5_11eb_806c_8c47be1d5d2drow4_col1 {\n",
       "            background-color:  #c6cce3;\n",
       "            color:  #000000;\n",
       "        }    #T_cd3b8165_e3b5_11eb_806c_8c47be1d5d2drow4_col2 {\n",
       "            background-color:  #fff7fb;\n",
       "            color:  #000000;\n",
       "        }    #T_cd3b8165_e3b5_11eb_806c_8c47be1d5d2drow4_col3 {\n",
       "            background-color:  #045687;\n",
       "            color:  #f1f1f1;\n",
       "        }    #T_cd3b8165_e3b5_11eb_806c_8c47be1d5d2drow4_col4 {\n",
       "            background-color:  #023858;\n",
       "            color:  #f1f1f1;\n",
       "        }</style><table id=\"T_cd3b8165_e3b5_11eb_806c_8c47be1d5d2d\" ><thead>    <tr>        <th class=\"blank level0\" ></th>        <th class=\"col_heading level0 col0\" >impressions</th>        <th class=\"col_heading level0 col1\" >clicks</th>        <th class=\"col_heading level0 col2\" >cost</th>        <th class=\"col_heading level0 col3\" >conversions</th>        <th class=\"col_heading level0 col4\" >revenue</th>    </tr></thead><tbody>\n",
       "                <tr>\n",
       "                        <th id=\"T_cd3b8165_e3b5_11eb_806c_8c47be1d5d2dlevel0_row0\" class=\"row_heading level0 row0\" >impressions</th>\n",
       "                        <td id=\"T_cd3b8165_e3b5_11eb_806c_8c47be1d5d2drow0_col0\" class=\"data row0 col0\" >1.000000</td>\n",
       "                        <td id=\"T_cd3b8165_e3b5_11eb_806c_8c47be1d5d2drow0_col1\" class=\"data row0 col1\" >0.987514</td>\n",
       "                        <td id=\"T_cd3b8165_e3b5_11eb_806c_8c47be1d5d2drow0_col2\" class=\"data row0 col2\" >0.682811</td>\n",
       "                        <td id=\"T_cd3b8165_e3b5_11eb_806c_8c47be1d5d2drow0_col3\" class=\"data row0 col3\" >0.822149</td>\n",
       "                        <td id=\"T_cd3b8165_e3b5_11eb_806c_8c47be1d5d2drow0_col4\" class=\"data row0 col4\" >0.759671</td>\n",
       "            </tr>\n",
       "            <tr>\n",
       "                        <th id=\"T_cd3b8165_e3b5_11eb_806c_8c47be1d5d2dlevel0_row1\" class=\"row_heading level0 row1\" >clicks</th>\n",
       "                        <td id=\"T_cd3b8165_e3b5_11eb_806c_8c47be1d5d2drow1_col0\" class=\"data row1 col0\" >0.987514</td>\n",
       "                        <td id=\"T_cd3b8165_e3b5_11eb_806c_8c47be1d5d2drow1_col1\" class=\"data row1 col1\" >1.000000</td>\n",
       "                        <td id=\"T_cd3b8165_e3b5_11eb_806c_8c47be1d5d2drow1_col2\" class=\"data row1 col2\" >0.719925</td>\n",
       "                        <td id=\"T_cd3b8165_e3b5_11eb_806c_8c47be1d5d2drow1_col3\" class=\"data row1 col3\" >0.856941</td>\n",
       "                        <td id=\"T_cd3b8165_e3b5_11eb_806c_8c47be1d5d2drow1_col4\" class=\"data row1 col4\" >0.798282</td>\n",
       "            </tr>\n",
       "            <tr>\n",
       "                        <th id=\"T_cd3b8165_e3b5_11eb_806c_8c47be1d5d2dlevel0_row2\" class=\"row_heading level0 row2\" >cost</th>\n",
       "                        <td id=\"T_cd3b8165_e3b5_11eb_806c_8c47be1d5d2drow2_col0\" class=\"data row2 col0\" >0.682811</td>\n",
       "                        <td id=\"T_cd3b8165_e3b5_11eb_806c_8c47be1d5d2drow2_col1\" class=\"data row2 col1\" >0.719925</td>\n",
       "                        <td id=\"T_cd3b8165_e3b5_11eb_806c_8c47be1d5d2drow2_col2\" class=\"data row2 col2\" >1.000000</td>\n",
       "                        <td id=\"T_cd3b8165_e3b5_11eb_806c_8c47be1d5d2drow2_col3\" class=\"data row2 col3\" >0.672202</td>\n",
       "                        <td id=\"T_cd3b8165_e3b5_11eb_806c_8c47be1d5d2drow2_col4\" class=\"data row2 col4\" >0.581662</td>\n",
       "            </tr>\n",
       "            <tr>\n",
       "                        <th id=\"T_cd3b8165_e3b5_11eb_806c_8c47be1d5d2dlevel0_row3\" class=\"row_heading level0 row3\" >conversions</th>\n",
       "                        <td id=\"T_cd3b8165_e3b5_11eb_806c_8c47be1d5d2drow3_col0\" class=\"data row3 col0\" >0.822149</td>\n",
       "                        <td id=\"T_cd3b8165_e3b5_11eb_806c_8c47be1d5d2drow3_col1\" class=\"data row3 col1\" >0.856941</td>\n",
       "                        <td id=\"T_cd3b8165_e3b5_11eb_806c_8c47be1d5d2drow3_col2\" class=\"data row3 col2\" >0.672202</td>\n",
       "                        <td id=\"T_cd3b8165_e3b5_11eb_806c_8c47be1d5d2drow3_col3\" class=\"data row3 col3\" >1.000000</td>\n",
       "                        <td id=\"T_cd3b8165_e3b5_11eb_806c_8c47be1d5d2drow3_col4\" class=\"data row3 col4\" >0.964096</td>\n",
       "            </tr>\n",
       "            <tr>\n",
       "                        <th id=\"T_cd3b8165_e3b5_11eb_806c_8c47be1d5d2dlevel0_row4\" class=\"row_heading level0 row4\" >revenue</th>\n",
       "                        <td id=\"T_cd3b8165_e3b5_11eb_806c_8c47be1d5d2drow4_col0\" class=\"data row4 col0\" >0.759671</td>\n",
       "                        <td id=\"T_cd3b8165_e3b5_11eb_806c_8c47be1d5d2drow4_col1\" class=\"data row4 col1\" >0.798282</td>\n",
       "                        <td id=\"T_cd3b8165_e3b5_11eb_806c_8c47be1d5d2drow4_col2\" class=\"data row4 col2\" >0.581662</td>\n",
       "                        <td id=\"T_cd3b8165_e3b5_11eb_806c_8c47be1d5d2drow4_col3\" class=\"data row4 col3\" >0.964096</td>\n",
       "                        <td id=\"T_cd3b8165_e3b5_11eb_806c_8c47be1d5d2drow4_col4\" class=\"data row4 col4\" >1.000000</td>\n",
       "            </tr>\n",
       "    </tbody></table>"
      ],
      "text/plain": [
       "<pandas.io.formats.style.Styler at 0x2a3bb4211c0>"
      ]
     },
     "execution_count": 74,
     "metadata": {},
     "output_type": "execute_result"
    }
   ],
   "source": [
    "corr_matrix = train.corr().style.background_gradient()\n",
    "corr_matrix"
   ]
  },
  {
   "cell_type": "code",
   "execution_count": 75,
   "metadata": {},
   "outputs": [],
   "source": [
    "def filter_correlation(data, limit):\n",
    "    col = set()\n",
    "    corr_matrix = data.corr() \n",
    "    for i in range(len(corr_matrix)):\n",
    "        for j in range(i):\n",
    "            if (corr_matrix.iloc[i, j]) > limit:\n",
    "                col_name = corr_matrix.columns[i]\n",
    "                col.add(col_name)\n",
    "    return col"
   ]
  },
  {
   "cell_type": "code",
   "execution_count": 76,
   "metadata": {},
   "outputs": [
    {
     "data": {
      "text/plain": [
       "{'clicks', 'conversions', 'cost', 'revenue'}"
      ]
     },
     "execution_count": 76,
     "metadata": {},
     "output_type": "execute_result"
    }
   ],
   "source": [
    "high_corr_col = filter_correlation(train, 0.7)\n",
    "high_corr_col"
   ]
  },
  {
   "cell_type": "code",
   "execution_count": 77,
   "metadata": {},
   "outputs": [],
   "source": [
    "train['revenue'] = np.log1p(train['revenue'])"
   ]
  },
  {
   "cell_type": "code",
   "execution_count": 78,
   "metadata": {},
   "outputs": [
    {
     "name": "stdout",
     "output_type": "stream",
     "text": [
      "(4571, 8)\n",
      "(4571,)\n"
     ]
    }
   ],
   "source": [
    "X = train.drop(['revenue'], axis = 1)\n",
    "col_to_use = list(X.columns)\n",
    "\n",
    "y = train['revenue']\n",
    "print(X.shape)\n",
    "print(y.shape)"
   ]
  },
  {
   "cell_type": "code",
   "execution_count": 79,
   "metadata": {},
   "outputs": [
    {
     "data": {
      "text/plain": [
       "['impressions', 'clicks', 'cost', 'conversions']"
      ]
     },
     "execution_count": 79,
     "metadata": {},
     "output_type": "execute_result"
    }
   ],
   "source": [
    "num_cols = [col for col in col_to_use if train[col].dtype in ['int64', 'float64']]\n",
    "cat_cols = [col for col in col_to_use if train[col].dtype == 'object']\n",
    "num_cols"
   ]
  },
  {
   "cell_type": "code",
   "execution_count": 80,
   "metadata": {},
   "outputs": [
    {
     "data": {
      "text/plain": [
       "['date', 'campaign', 'adgroup', 'ad']"
      ]
     },
     "execution_count": 80,
     "metadata": {},
     "output_type": "execute_result"
    }
   ],
   "source": [
    "cat_cols"
   ]
  },
  {
   "cell_type": "code",
   "execution_count": 81,
   "metadata": {},
   "outputs": [],
   "source": [
    "from sklearn.pipeline import Pipeline\n",
    "from sklearn.compose import ColumnTransformer\n",
    "from sklearn.impute import SimpleImputer\n",
    "from sklearn.preprocessing import OneHotEncoder\n",
    "from sklearn.preprocessing import MinMaxScaler\n",
    "num_processor = Pipeline(steps = [\n",
    "    ('imputer', SimpleImputer(strategy='most_frequent')),\n",
    "    ('scaler', MinMaxScaler())\n",
    "])\n",
    "cat_processor = Pipeline(steps = [\n",
    "    ('imputer', SimpleImputer(strategy = 'most_frequent')),\n",
    "    ('ohe', OneHotEncoder(handle_unknown = 'ignore', sparse = False))\n",
    "])\n",
    "preprocessor = ColumnTransformer([\n",
    "    ('num', num_processor, num_cols),\n",
    "    ('cat', cat_processor, cat_cols)\n",
    "])"
   ]
  },
  {
   "cell_type": "code",
   "execution_count": 82,
   "metadata": {},
   "outputs": [
    {
     "name": "stdout",
     "output_type": "stream",
     "text": [
      "(3199, 8)\n",
      "(3199,)\n"
     ]
    }
   ],
   "source": [
    "from sklearn.model_selection import train_test_split\n",
    "from sklearn.metrics import mean_squared_error\n",
    "X_train, X_test, y_train, y_test = train_test_split(X, y, test_size = 0.3, random_state = 42)\n",
    "print(X_train.shape)\n",
    "print(y_train.shape)"
   ]
  },
  {
   "cell_type": "code",
   "execution_count": 83,
   "metadata": {},
   "outputs": [
    {
     "name": "stdout",
     "output_type": "stream",
     "text": [
      "(1372, 8)\n",
      "(1372,)\n"
     ]
    }
   ],
   "source": [
    "print(X_test.shape)\n",
    "print(y_test.shape)"
   ]
  },
  {
   "cell_type": "code",
   "execution_count": 84,
   "metadata": {},
   "outputs": [
    {
     "name": "stdout",
     "output_type": "stream",
     "text": [
      "Requirement already satisfied: catboost in c:\\users\\denebola biswas\\anaconda3\\lib\\site-packages (0.26)\n",
      "Requirement already satisfied: numpy>=1.16.0 in c:\\users\\denebola biswas\\anaconda3\\lib\\site-packages (from catboost) (1.18.5)\n",
      "Requirement already satisfied: scipy in c:\\users\\denebola biswas\\anaconda3\\lib\\site-packages (from catboost) (1.5.0)\n",
      "Requirement already satisfied: matplotlib in c:\\users\\denebola biswas\\anaconda3\\lib\\site-packages (from catboost) (3.2.2)\n",
      "Requirement already satisfied: six in c:\\users\\denebola biswas\\anaconda3\\lib\\site-packages (from catboost) (1.15.0)\n",
      "Requirement already satisfied: graphviz in c:\\users\\denebola biswas\\anaconda3\\lib\\site-packages (from catboost) (0.16)\n",
      "Requirement already satisfied: pandas>=0.24.0 in c:\\users\\denebola biswas\\anaconda3\\lib\\site-packages (from catboost) (1.0.5)\n",
      "Requirement already satisfied: plotly in c:\\users\\denebola biswas\\anaconda3\\lib\\site-packages (from catboost) (5.1.0)\n",
      "Requirement already satisfied: cycler>=0.10 in c:\\users\\denebola biswas\\anaconda3\\lib\\site-packages (from matplotlib->catboost) (0.10.0)\n",
      "Requirement already satisfied: kiwisolver>=1.0.1 in c:\\users\\denebola biswas\\anaconda3\\lib\\site-packages (from matplotlib->catboost) (1.2.0)\n",
      "Requirement already satisfied: pyparsing!=2.0.4,!=2.1.2,!=2.1.6,>=2.0.1 in c:\\users\\denebola biswas\\anaconda3\\lib\\site-packages (from matplotlib->catboost) (2.4.7)\n",
      "Requirement already satisfied: python-dateutil>=2.1 in c:\\users\\denebola biswas\\anaconda3\\lib\\site-packages (from matplotlib->catboost) (2.8.1)\n",
      "Requirement already satisfied: pytz>=2017.2 in c:\\users\\denebola biswas\\anaconda3\\lib\\site-packages (from pandas>=0.24.0->catboost) (2020.1)\n",
      "Requirement already satisfied: tenacity>=6.2.0 in c:\\users\\denebola biswas\\anaconda3\\lib\\site-packages (from plotly->catboost) (8.0.1)\n",
      "Requirement already satisfied: xgboost in c:\\users\\denebola biswas\\anaconda3\\lib\\site-packages (1.4.2)\n",
      "Requirement already satisfied: numpy in c:\\users\\denebola biswas\\anaconda3\\lib\\site-packages (from xgboost) (1.18.5)\n",
      "Requirement already satisfied: scipy in c:\\users\\denebola biswas\\anaconda3\\lib\\site-packages (from xgboost) (1.5.0)\n"
     ]
    }
   ],
   "source": [
    "!pip install catboost\n",
    "!pip install xgboost"
   ]
  },
  {
   "cell_type": "code",
   "execution_count": 85,
   "metadata": {},
   "outputs": [],
   "source": [
    "from sklearn.linear_model import LinearRegression\n",
    "from sklearn.linear_model import Lasso\n",
    "from sklearn.linear_model import Ridge\n",
    "from sklearn.tree import DecisionTreeRegressor\n",
    "from sklearn.ensemble import RandomForestRegressor\n",
    "from sklearn.ensemble import GradientBoostingRegressor\n",
    "from xgboost import XGBRegressor\n",
    "from catboost import CatBoostRegressor"
   ]
  },
  {
   "cell_type": "code",
   "execution_count": 114,
   "metadata": {},
   "outputs": [],
   "source": [
    "model = LinearRegression()"
   ]
  },
  {
   "cell_type": "code",
   "execution_count": 115,
   "metadata": {},
   "outputs": [],
   "source": [
    "model1 = Lasso()"
   ]
  },
  {
   "cell_type": "code",
   "execution_count": 116,
   "metadata": {},
   "outputs": [],
   "source": [
    "model2 = Ridge()"
   ]
  },
  {
   "cell_type": "code",
   "execution_count": 117,
   "metadata": {},
   "outputs": [],
   "source": [
    "model3 = DecisionTreeRegressor(max_leaf_nodes = 30, random_state = 42)"
   ]
  },
  {
   "cell_type": "code",
   "execution_count": 118,
   "metadata": {},
   "outputs": [],
   "source": [
    "model4 = RandomForestRegressor(n_estimators = 500, random_state = 42)"
   ]
  },
  {
   "cell_type": "code",
   "execution_count": 259,
   "metadata": {},
   "outputs": [],
   "source": [
    "model5 = GradientBoostingRegressor(learning_rate = 0.12, n_estimators = 165, random_state=0)"
   ]
  },
  {
   "cell_type": "code",
   "execution_count": 260,
   "metadata": {},
   "outputs": [],
   "source": [
    "model6 = XGBRegressor(learning_rate = 0.1332, n_estimators = 165, random_state=0)"
   ]
  },
  {
   "cell_type": "code",
   "execution_count": 261,
   "metadata": {},
   "outputs": [],
   "source": [
    "model7 = CatBoostRegressor(random_state=0,verbose=False, depth = 5, early_stopping_rounds=300, learning_rate= 0.01)"
   ]
  },
  {
   "cell_type": "code",
   "execution_count": 262,
   "metadata": {},
   "outputs": [],
   "source": [
    "def build_model(model):\n",
    "    clf = Pipeline(steps = [\n",
    "        ('preprocessor', preprocessor),\n",
    "        ('model', model)\n",
    "    ])\n",
    "    clf.fit(X_train, y_train)\n",
    "    print(model)\n",
    "    print(\"Train set score:\", clf.score(X_train, y_train))\n",
    "    print(\"Test set score:\", clf.score(X_test, y_test))\n",
    "    print(\"\\n\")\n",
    "    print(\"Train set rmse:\", mean_squared_error(y_train, clf.predict(X_train),squared=False))\n",
    "    print(\"Test set rmse:\", mean_squared_error(y_test, clf.predict(X_test),squared=False))\n",
    "    print(\"\\n\")\n",
    "    predictions = clf.predict(test)\n",
    "    return predictions"
   ]
  },
  {
   "cell_type": "code",
   "execution_count": 263,
   "metadata": {},
   "outputs": [
    {
     "name": "stdout",
     "output_type": "stream",
     "text": [
      "GradientBoostingRegressor(learning_rate=0.12, n_estimators=165, random_state=0)\n",
      "Train set score: 0.9898617853779097\n",
      "Test set score: 0.9826230718977299\n",
      "\n",
      "\n",
      "Train set rmse: 0.27532388059100366\n",
      "Test set rmse: 0.35360726797735814\n",
      "\n",
      "\n"
     ]
    },
    {
     "name": "stderr",
     "output_type": "stream",
     "text": [
      "C:\\Users\\Denebola Biswas\\anaconda3\\lib\\site-packages\\sklearn\\compose\\_column_transformer.py:437: FutureWarning: Given feature/column names or counts do not match the ones for the data given during fit. This will fail from v0.24.\n",
      "  warnings.warn(\"Given feature/column names or counts do not match \"\n"
     ]
    }
   ],
   "source": [
    "predictions = build_model(model5) "
   ]
  },
  {
   "cell_type": "code",
   "execution_count": 264,
   "metadata": {},
   "outputs": [
    {
     "data": {
      "text/plain": [
       "array([ 4.77701102e+00, -8.95667388e-05, -1.77339492e-03, -1.77339492e-03,\n",
       "       -1.77339492e-03, -1.77339492e-03,  4.76682046e+00, -1.77339492e-03,\n",
       "        4.78305483e+00, -1.77339492e-03,  5.87312664e+00, -8.95667388e-05,\n",
       "       -1.77339492e-03,  5.59194226e+00, -1.77339492e-03,  4.77701102e+00,\n",
       "       -8.95667388e-05,  4.79441544e+00, -8.95667388e-05,  4.77159763e+00,\n",
       "       -1.77339492e-03,  5.32382405e-03, -1.77339492e-03,  6.05612941e+00,\n",
       "       -1.77339492e-03, -1.77339492e-03,  6.23954744e+00,  4.78305483e+00,\n",
       "       -1.77339492e-03, -1.77339492e-03,  5.93732940e+00, -1.77339492e-03,\n",
       "        6.69191168e+00,  5.58589846e+00,  4.77159763e+00, -1.77339492e-03,\n",
       "        4.79441544e+00, -8.95667388e-05, -1.77339492e-03, -1.77339492e-03,\n",
       "       -1.77339492e-03, -8.95667388e-05, -1.77339492e-03,  5.32382405e-03,\n",
       "        5.32382405e-03, -1.77339492e-03, -1.77339492e-03, -1.77339492e-03,\n",
       "       -8.95667388e-05, -1.77339492e-03, -1.77339492e-03, -1.77339492e-03,\n",
       "        1.12710473e-02,  5.59194226e+00,  4.89003435e+00,  4.76991380e+00,\n",
       "       -1.77339492e-03, -1.77339492e-03, -1.77339492e-03,  6.71752368e+00,\n",
       "       -1.77339492e-03,  5.58589846e+00, -1.77339492e-03,  5.59901659e+00,\n",
       "       -1.77339492e-03,  5.32382405e-03,  5.87312664e+00,  4.78145762e+00,\n",
       "       -1.77339492e-03, -1.77339492e-03,  5.54016341e+00, -1.77339492e-03,\n",
       "       -1.77339492e-03, -1.77339492e-03,  4.78305483e+00,  4.77701102e+00,\n",
       "        6.23954744e+00, -1.77339492e-03,  5.32382405e-03, -1.77339492e-03,\n",
       "        5.87312664e+00,  4.76991380e+00, -8.95667388e-05,  4.77701102e+00,\n",
       "       -1.77339492e-03, -1.77339492e-03,  6.28972908e+00,  7.16590924e+00,\n",
       "       -1.77339492e-03,  5.58589846e+00,  5.58589846e+00,  5.58048507e+00,\n",
       "        5.32382405e-03,  6.25481684e+00,  4.77701102e+00, -1.77339492e-03,\n",
       "       -1.77339492e-03, -1.77339492e-03,  5.32382405e-03, -1.77339492e-03,\n",
       "        4.77701102e+00, -1.77339492e-03, -1.77339492e-03,  4.83158052e+00,\n",
       "       -1.77339492e-03,  7.61176043e+00, -1.77339492e-03,  5.58589846e+00,\n",
       "       -1.77339492e-03,  4.77701102e+00, -1.77339492e-03,  6.28528249e+00,\n",
       "       -1.77339492e-03,  5.58589846e+00, -1.77339492e-03,  7.40202166e+00,\n",
       "       -1.77339492e-03,  7.61176043e+00,  5.91886169e+00,  4.77701102e+00,\n",
       "       -1.77339492e-03, -1.77339492e-03,  5.91886169e+00, -1.77339492e-03,\n",
       "       -1.77339492e-03, -1.77339492e-03,  6.05612941e+00, -1.77339492e-03,\n",
       "        4.79012916e+00,  4.78305483e+00, -1.77339492e-03, -1.77339492e-03,\n",
       "       -1.77339492e-03, -1.77339492e-03,  6.59457594e+00, -8.95667388e-05,\n",
       "       -8.95667388e-05, -1.77339492e-03,  5.93626611e+00, -1.77339492e-03,\n",
       "        4.77159763e+00, -1.77339492e-03, -1.77339492e-03, -1.77339492e-03,\n",
       "        4.77159763e+00, -1.77339492e-03, -1.77339492e-03,  5.58589846e+00,\n",
       "        5.94274279e+00, -1.77339492e-03, -1.77339492e-03, -1.77339492e-03,\n",
       "        6.41547588e+00, -1.77339492e-03,  5.59194226e+00, -1.77339492e-03,\n",
       "        6.54279709e+00, -1.77339492e-03, -1.77339492e-03, -1.77339492e-03,\n",
       "        4.78305483e+00, -1.77339492e-03, -8.95667388e-05, -1.77339492e-03,\n",
       "        5.60330287e+00, -1.77339492e-03,  5.53155170e+00, -8.95667388e-05,\n",
       "       -1.77339492e-03, -1.77339492e-03, -1.77339492e-03, -1.77339492e-03,\n",
       "        5.32382405e-03,  4.77701102e+00, -1.77339492e-03, -1.77339492e-03,\n",
       "       -1.77339492e-03, -1.77339492e-03,  5.58589846e+00,  4.76991380e+00,\n",
       "       -1.77339492e-03,  1.13676289e-02, -1.77339492e-03,  4.73127597e+00,\n",
       "       -8.95667388e-05, -8.95667388e-05,  4.77701102e+00, -1.77339492e-03,\n",
       "        4.77159763e+00, -1.77339492e-03,  2.27282430e-02,  4.76991380e+00,\n",
       "        5.32382405e-03, -1.77339492e-03, -1.77339492e-03, -1.77339492e-03,\n",
       "       -1.77339492e-03, -1.77339492e-03, -1.77339492e-03,  4.77701102e+00,\n",
       "        4.76991380e+00, -1.77339492e-03,  5.59194226e+00, -1.77339492e-03,\n",
       "       -1.77339492e-03,  1.13676289e-02,  4.73127597e+00, -1.77339492e-03,\n",
       "       -8.95667388e-05,  5.91886169e+00, -1.77339492e-03, -8.95667388e-05,\n",
       "       -8.95667388e-05,  4.79441544e+00,  5.58048507e+00, -1.77339492e-03,\n",
       "       -8.95667388e-05, -1.77339492e-03, -1.77339492e-03,  5.58048507e+00,\n",
       "       -1.77339492e-03, -1.77339492e-03,  5.32382405e-03, -1.77339492e-03,\n",
       "       -1.77339492e-03,  6.71872552e+00, -1.77339492e-03, -1.77339492e-03,\n",
       "        4.73127597e+00, -1.77339492e-03,  5.59194226e+00, -1.77339492e-03,\n",
       "       -8.95667388e-05,  5.32382405e-03, -1.77339492e-03, -8.95667388e-05,\n",
       "       -1.77339492e-03,  4.79441544e+00, -8.95667388e-05, -4.90229282e-02,\n",
       "       -1.77339492e-03, -1.77339492e-03, -8.95667388e-05, -1.77339492e-03,\n",
       "       -1.77339492e-03,  4.77159763e+00, -1.77339492e-03, -4.90229282e-02,\n",
       "       -1.77339492e-03, -1.77339492e-03,  6.04301127e+00,  5.54016341e+00,\n",
       "       -1.77339492e-03,  5.92490549e+00, -1.77339492e-03,  4.77159763e+00,\n",
       "       -1.77339492e-03,  5.32382405e-03,  4.76991380e+00,  4.77159763e+00,\n",
       "       -1.77339492e-03,  5.59725907e+00, -8.95667388e-05, -8.95667388e-05,\n",
       "       -1.77339492e-03, -1.77339492e-03, -8.95667388e-05, -1.77339492e-03,\n",
       "       -1.77339492e-03, -1.77339492e-03,  5.58589846e+00, -1.77339492e-03,\n",
       "       -1.77339492e-03,  6.40943207e+00, -1.77339492e-03, -1.77339492e-03,\n",
       "       -1.77339492e-03,  5.54016341e+00,  4.79012916e+00, -1.77339492e-03,\n",
       "       -1.77339492e-03, -8.95667388e-05,  5.32382405e-03, -1.77339492e-03,\n",
       "        5.58048507e+00, -8.95667388e-05,  4.79441544e+00, -8.95667388e-05,\n",
       "       -1.77339492e-03, -1.77339492e-03, -1.77339492e-03,  4.77159763e+00,\n",
       "       -8.95667388e-05, -1.77339492e-03,  4.77701102e+00, -1.77339492e-03,\n",
       "       -1.77339492e-03,  4.78305483e+00, -1.77339492e-03, -1.77339492e-03,\n",
       "       -1.77339492e-03, -1.77339492e-03,  6.23954744e+00,  1.13676289e-02,\n",
       "       -8.95667388e-05, -8.95667388e-05,  6.68586787e+00, -1.77339492e-03,\n",
       "       -1.77339492e-03,  5.58048507e+00,  4.78837164e+00,  4.76991380e+00,\n",
       "       -1.77339492e-03, -1.77339492e-03, -1.77339492e-03, -8.95667388e-05,\n",
       "       -1.77339492e-03,  4.77701102e+00])"
      ]
     },
     "execution_count": 264,
     "metadata": {},
     "output_type": "execute_result"
    }
   ],
   "source": [
    "predictions"
   ]
  },
  {
   "cell_type": "code",
   "execution_count": 265,
   "metadata": {},
   "outputs": [],
   "source": [
    "predictions = np.exp(predictions)"
   ]
  },
  {
   "cell_type": "code",
   "execution_count": 266,
   "metadata": {},
   "outputs": [
    {
     "data": {
      "text/plain": [
       "array([1.18748881e+02, 9.99910437e-01, 9.98228177e-01, 9.98228177e-01,\n",
       "       9.98228177e-01, 9.98228177e-01, 1.17544908e+02, 9.98228177e-01,\n",
       "       1.19468750e+02, 9.98228177e-01, 3.55358322e+02, 9.99910437e-01,\n",
       "       9.98228177e-01, 2.68256137e+02, 9.98228177e-01, 1.18748881e+02,\n",
       "       9.99910437e-01, 1.20833727e+02, 9.99910437e-01, 1.18107784e+02,\n",
       "       9.98228177e-01, 1.00533802e+00, 9.98228177e-01, 4.26720575e+02,\n",
       "       9.98228177e-01, 9.98228177e-01, 5.12626463e+02, 1.19468750e+02,\n",
       "       9.98228177e-01, 9.98228177e-01, 3.78921629e+02, 9.98228177e-01,\n",
       "       8.05861327e+02, 2.66639739e+02, 1.18107784e+02, 9.98228177e-01,\n",
       "       1.20833727e+02, 9.99910437e-01, 9.98228177e-01, 9.98228177e-01,\n",
       "       9.98228177e-01, 9.99910437e-01, 9.98228177e-01, 1.00533802e+00,\n",
       "       1.00533802e+00, 9.98228177e-01, 9.98228177e-01, 9.98228177e-01,\n",
       "       9.99910437e-01, 9.98228177e-01, 9.98228177e-01, 9.98228177e-01,\n",
       "       1.01133480e+00, 2.68256137e+02, 1.32958141e+02, 1.17909078e+02,\n",
       "       9.98228177e-01, 9.98228177e-01, 9.98228177e-01, 8.26767634e+02,\n",
       "       9.98228177e-01, 2.66639739e+02, 9.98228177e-01, 2.70160599e+02,\n",
       "       9.98228177e-01, 1.00533802e+00, 3.55358322e+02, 1.19278086e+02,\n",
       "       9.98228177e-01, 9.98228177e-01, 2.54719619e+02, 9.98228177e-01,\n",
       "       9.98228177e-01, 9.98228177e-01, 1.19468750e+02, 1.18748881e+02,\n",
       "       5.12626463e+02, 9.98228177e-01, 1.00533802e+00, 9.98228177e-01,\n",
       "       3.55358322e+02, 1.17909078e+02, 9.99910437e-01, 1.18748881e+02,\n",
       "       9.98228177e-01, 9.98228177e-01, 5.39007284e+02, 1.29453811e+03,\n",
       "       9.98228177e-01, 2.66639739e+02, 2.66639739e+02, 2.65200214e+02,\n",
       "       1.00533802e+00, 5.20514028e+02, 1.18748881e+02, 9.98228177e-01,\n",
       "       9.98228177e-01, 9.98228177e-01, 1.00533802e+00, 9.98228177e-01,\n",
       "       1.18748881e+02, 9.98228177e-01, 9.98228177e-01, 1.25409016e+02,\n",
       "       9.98228177e-01, 2.02183427e+03, 9.98228177e-01, 2.66639739e+02,\n",
       "       9.98228177e-01, 1.18748881e+02, 9.98228177e-01, 5.36615856e+02,\n",
       "       9.98228177e-01, 2.66639739e+02, 9.98228177e-01, 1.63929517e+03,\n",
       "       9.98228177e-01, 2.02183427e+03, 3.71988034e+02, 1.18748881e+02,\n",
       "       9.98228177e-01, 9.98228177e-01, 3.71988034e+02, 9.98228177e-01,\n",
       "       9.98228177e-01, 9.98228177e-01, 4.26720575e+02, 9.98228177e-01,\n",
       "       1.20316908e+02, 1.19468750e+02, 9.98228177e-01, 9.98228177e-01,\n",
       "       9.98228177e-01, 9.98228177e-01, 7.31118782e+02, 9.99910437e-01,\n",
       "       9.99910437e-01, 9.98228177e-01, 3.78518938e+02, 9.98228177e-01,\n",
       "       1.18107784e+02, 9.98228177e-01, 9.98228177e-01, 9.98228177e-01,\n",
       "       1.18107784e+02, 9.98228177e-01, 9.98228177e-01, 2.66639739e+02,\n",
       "       3.80978442e+02, 9.98228177e-01, 9.98228177e-01, 9.98228177e-01,\n",
       "       6.11231562e+02, 9.98228177e-01, 2.68256137e+02, 9.98228177e-01,\n",
       "       6.94225674e+02, 9.98228177e-01, 9.98228177e-01, 9.98228177e-01,\n",
       "       1.19468750e+02, 9.98228177e-01, 9.99910437e-01, 9.98228177e-01,\n",
       "       2.71321069e+02, 9.98228177e-01, 2.52535467e+02, 9.99910437e-01,\n",
       "       9.98228177e-01, 9.98228177e-01, 9.98228177e-01, 9.98228177e-01,\n",
       "       1.00533802e+00, 1.18748881e+02, 9.98228177e-01, 9.98228177e-01,\n",
       "       9.98228177e-01, 9.98228177e-01, 2.66639739e+02, 1.17909078e+02,\n",
       "       9.98228177e-01, 1.01143249e+00, 9.98228177e-01, 1.13440217e+02,\n",
       "       9.99910437e-01, 9.99910437e-01, 1.18748881e+02, 9.98228177e-01,\n",
       "       1.18107784e+02, 9.98228177e-01, 1.02298850e+00, 1.17909078e+02,\n",
       "       1.00533802e+00, 9.98228177e-01, 9.98228177e-01, 9.98228177e-01,\n",
       "       9.98228177e-01, 9.98228177e-01, 9.98228177e-01, 1.18748881e+02,\n",
       "       1.17909078e+02, 9.98228177e-01, 2.68256137e+02, 9.98228177e-01,\n",
       "       9.98228177e-01, 1.01143249e+00, 1.13440217e+02, 9.98228177e-01,\n",
       "       9.99910437e-01, 3.71988034e+02, 9.98228177e-01, 9.99910437e-01,\n",
       "       9.99910437e-01, 1.20833727e+02, 2.65200214e+02, 9.98228177e-01,\n",
       "       9.99910437e-01, 9.98228177e-01, 9.98228177e-01, 2.65200214e+02,\n",
       "       9.98228177e-01, 9.98228177e-01, 1.00533802e+00, 9.98228177e-01,\n",
       "       9.98228177e-01, 8.27761876e+02, 9.98228177e-01, 9.98228177e-01,\n",
       "       1.13440217e+02, 9.98228177e-01, 2.68256137e+02, 9.98228177e-01,\n",
       "       9.99910437e-01, 1.00533802e+00, 9.98228177e-01, 9.99910437e-01,\n",
       "       9.98228177e-01, 1.20833727e+02, 9.99910437e-01, 9.52159298e-01,\n",
       "       9.98228177e-01, 9.98228177e-01, 9.99910437e-01, 9.98228177e-01,\n",
       "       9.98228177e-01, 1.18107784e+02, 9.98228177e-01, 9.52159298e-01,\n",
       "       9.98228177e-01, 9.98228177e-01, 4.21159352e+02, 2.54719619e+02,\n",
       "       9.98228177e-01, 3.74243065e+02, 9.98228177e-01, 1.18107784e+02,\n",
       "       9.98228177e-01, 1.00533802e+00, 1.17909078e+02, 1.18107784e+02,\n",
       "       9.98228177e-01, 2.69686202e+02, 9.99910437e-01, 9.99910437e-01,\n",
       "       9.98228177e-01, 9.98228177e-01, 9.99910437e-01, 9.98228177e-01,\n",
       "       9.98228177e-01, 9.98228177e-01, 2.66639739e+02, 9.98228177e-01,\n",
       "       9.98228177e-01, 6.07548538e+02, 9.98228177e-01, 9.98228177e-01,\n",
       "       9.98228177e-01, 2.54719619e+02, 1.20316908e+02, 9.98228177e-01,\n",
       "       9.98228177e-01, 9.99910437e-01, 1.00533802e+00, 9.98228177e-01,\n",
       "       2.65200214e+02, 9.99910437e-01, 1.20833727e+02, 9.99910437e-01,\n",
       "       9.98228177e-01, 9.98228177e-01, 9.98228177e-01, 1.18107784e+02,\n",
       "       9.99910437e-01, 9.98228177e-01, 1.18748881e+02, 9.98228177e-01,\n",
       "       9.98228177e-01, 1.19468750e+02, 9.98228177e-01, 9.98228177e-01,\n",
       "       9.98228177e-01, 9.98228177e-01, 5.12626463e+02, 1.01143249e+00,\n",
       "       9.99910437e-01, 9.99910437e-01, 8.01005547e+02, 9.98228177e-01,\n",
       "       9.98228177e-01, 2.65200214e+02, 1.20105634e+02, 1.17909078e+02,\n",
       "       9.98228177e-01, 9.98228177e-01, 9.98228177e-01, 9.99910437e-01,\n",
       "       9.98228177e-01, 1.18748881e+02])"
      ]
     },
     "execution_count": 266,
     "metadata": {},
     "output_type": "execute_result"
    }
   ],
   "source": [
    "predictions"
   ]
  },
  {
   "cell_type": "code",
   "execution_count": 267,
   "metadata": {},
   "outputs": [],
   "source": [
    "output = pd.DataFrame({'revenue': predictions})\n",
    "output.to_csv('submission.csv', index = False)"
   ]
  },
  {
   "cell_type": "code",
   "execution_count": 268,
   "metadata": {},
   "outputs": [
    {
     "data": {
      "text/html": [
       "<div>\n",
       "<style scoped>\n",
       "    .dataframe tbody tr th:only-of-type {\n",
       "        vertical-align: middle;\n",
       "    }\n",
       "\n",
       "    .dataframe tbody tr th {\n",
       "        vertical-align: top;\n",
       "    }\n",
       "\n",
       "    .dataframe thead th {\n",
       "        text-align: right;\n",
       "    }\n",
       "</style>\n",
       "<table border=\"1\" class=\"dataframe\">\n",
       "  <thead>\n",
       "    <tr style=\"text-align: right;\">\n",
       "      <th></th>\n",
       "      <th>revenue</th>\n",
       "    </tr>\n",
       "  </thead>\n",
       "  <tbody>\n",
       "    <tr>\n",
       "      <th>0</th>\n",
       "      <td>118.748881</td>\n",
       "    </tr>\n",
       "    <tr>\n",
       "      <th>1</th>\n",
       "      <td>0.999910</td>\n",
       "    </tr>\n",
       "    <tr>\n",
       "      <th>2</th>\n",
       "      <td>0.998228</td>\n",
       "    </tr>\n",
       "    <tr>\n",
       "      <th>3</th>\n",
       "      <td>0.998228</td>\n",
       "    </tr>\n",
       "    <tr>\n",
       "      <th>4</th>\n",
       "      <td>0.998228</td>\n",
       "    </tr>\n",
       "    <tr>\n",
       "      <th>...</th>\n",
       "      <td>...</td>\n",
       "    </tr>\n",
       "    <tr>\n",
       "      <th>313</th>\n",
       "      <td>0.998228</td>\n",
       "    </tr>\n",
       "    <tr>\n",
       "      <th>314</th>\n",
       "      <td>0.998228</td>\n",
       "    </tr>\n",
       "    <tr>\n",
       "      <th>315</th>\n",
       "      <td>0.999910</td>\n",
       "    </tr>\n",
       "    <tr>\n",
       "      <th>316</th>\n",
       "      <td>0.998228</td>\n",
       "    </tr>\n",
       "    <tr>\n",
       "      <th>317</th>\n",
       "      <td>118.748881</td>\n",
       "    </tr>\n",
       "  </tbody>\n",
       "</table>\n",
       "<p>318 rows × 1 columns</p>\n",
       "</div>"
      ],
      "text/plain": [
       "        revenue\n",
       "0    118.748881\n",
       "1      0.999910\n",
       "2      0.998228\n",
       "3      0.998228\n",
       "4      0.998228\n",
       "..          ...\n",
       "313    0.998228\n",
       "314    0.998228\n",
       "315    0.999910\n",
       "316    0.998228\n",
       "317  118.748881\n",
       "\n",
       "[318 rows x 1 columns]"
      ]
     },
     "execution_count": 268,
     "metadata": {},
     "output_type": "execute_result"
    }
   ],
   "source": [
    "sub = pd.read_csv('submission.csv')\n",
    "sub"
   ]
  },
  {
   "cell_type": "code",
   "execution_count": null,
   "metadata": {},
   "outputs": [],
   "source": []
  },
  {
   "cell_type": "code",
   "execution_count": null,
   "metadata": {},
   "outputs": [],
   "source": []
  },
  {
   "cell_type": "code",
   "execution_count": null,
   "metadata": {},
   "outputs": [],
   "source": []
  }
 ],
 "metadata": {
  "kernelspec": {
   "display_name": "Python 3",
   "language": "python",
   "name": "python3"
  },
  "language_info": {
   "codemirror_mode": {
    "name": "ipython",
    "version": 3
   },
   "file_extension": ".py",
   "mimetype": "text/x-python",
   "name": "python",
   "nbconvert_exporter": "python",
   "pygments_lexer": "ipython3",
   "version": "3.8.3"
  }
 },
 "nbformat": 4,
 "nbformat_minor": 4
}
